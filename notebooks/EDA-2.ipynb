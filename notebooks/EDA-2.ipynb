{
 "cells": [
  {
   "cell_type": "markdown",
   "metadata": {},
   "source": [
    "# Exploratory Data Analysis-II \n",
    "\n",
    "## Task \n",
    "- Finding the Length of each Sequence and Creating a Length Column \n",
    "- Calculating GC Ratio and Creating GC Column \n",
    "- Finding the % of N and Creating % of N Column\n",
    "- Per Base Sequence Content\n",
    " \n",
    "## Basic Questions \n",
    "- Maximum and minimum sequence length?\n",
    "- Returns the maximum and minimum Length with their index. \n",
    "- Maximum and minimum sequence GC Ratio?\n",
    "- Returns the maximum and minimum GC Ratio with their index. \n",
    "- GC distributions. \n",
    "- No. of Gen and bar plot "
   ]
  },
  {
   "cell_type": "code",
   "execution_count": 2,
   "metadata": {},
   "outputs": [],
   "source": [
    "# library \n",
    "import numpy as np # for linear algebra \n",
    "import pandas as pd # for data mangement \n",
    "import matplotlib.pyplot as plt # for data visualizations\n",
    "import seaborn as sns # advance visualizations \n",
    "\n",
    "# set figure styles \n",
    "plt.rcParams['figure.figsize'] =(10,8)\n",
    "plt.rcParams['font.size'] = 14\n",
    "sns.set_style('whitegrid')\n",
    "\n",
    "# dask \n",
    "import dask.array as da # faster numpy calculations \n",
    "import dask.dataframe as dd # for faster data management"
   ]
  },
  {
   "cell_type": "markdown",
   "metadata": {},
   "source": [
    "## Reading and Exploring Data "
   ]
  },
  {
   "cell_type": "code",
   "execution_count": 3,
   "metadata": {},
   "outputs": [],
   "source": [
    "# read data \n",
    "df = pd.read_csv('./data/2 Id Desc Gen Seq.csv')"
   ]
  },
  {
   "cell_type": "code",
   "execution_count": 4,
   "metadata": {},
   "outputs": [
    {
     "data": {
      "text/html": [
       "<div>\n",
       "<style scoped>\n",
       "    .dataframe tbody tr th:only-of-type {\n",
       "        vertical-align: middle;\n",
       "    }\n",
       "\n",
       "    .dataframe tbody tr th {\n",
       "        vertical-align: top;\n",
       "    }\n",
       "\n",
       "    .dataframe thead th {\n",
       "        text-align: right;\n",
       "    }\n",
       "</style>\n",
       "<table border=\"1\" class=\"dataframe\">\n",
       "  <thead>\n",
       "    <tr style=\"text-align: right;\">\n",
       "      <th></th>\n",
       "      <th>Id</th>\n",
       "      <th>Des</th>\n",
       "      <th>Gen</th>\n",
       "      <th>Seq</th>\n",
       "    </tr>\n",
       "  </thead>\n",
       "  <tbody>\n",
       "    <tr>\n",
       "      <th>0</th>\n",
       "      <td>KY465671.1</td>\n",
       "      <td>Sacbrood virus strain WA2 polyprotein gene, co...</td>\n",
       "      <td>ssRNA(+)</td>\n",
       "      <td>TACGAATCGTGATTCGATTCATTATTTCGCCTGAGTAAATCGAGAT...</td>\n",
       "    </tr>\n",
       "    <tr>\n",
       "      <th>1</th>\n",
       "      <td>KY465672.1</td>\n",
       "      <td>Sacbrood virus strain WA1 polyprotein gene, co...</td>\n",
       "      <td>ssRNA(+)</td>\n",
       "      <td>TACGAATCGTGATTCGATTCATTGTTTCGCCTGAGTAAATCGAGAT...</td>\n",
       "    </tr>\n",
       "    <tr>\n",
       "      <th>2</th>\n",
       "      <td>KY465673.1</td>\n",
       "      <td>Sacbrood virus strain VN3 polyprotein gene, co...</td>\n",
       "      <td>ssRNA(+)</td>\n",
       "      <td>TACGAATCGTGATTCGATTCATTGTTTCGCCTGAGTAAATCGAGAT...</td>\n",
       "    </tr>\n",
       "    <tr>\n",
       "      <th>3</th>\n",
       "      <td>KY465674.1</td>\n",
       "      <td>Sacbrood virus strain VN2 polyprotein gene, co...</td>\n",
       "      <td>ssRNA(+)</td>\n",
       "      <td>TACGAATCGTGATTCGATTCATTGTTTCGCCTGAGTAAATCGAGAT...</td>\n",
       "    </tr>\n",
       "    <tr>\n",
       "      <th>4</th>\n",
       "      <td>KY465675.1</td>\n",
       "      <td>Sacbrood virus strain VN1 polyprotein gene, co...</td>\n",
       "      <td>ssRNA(+)</td>\n",
       "      <td>TACGAATCGTGATTCGATTCATTGTTTCGCCTGAGTAAATCGAGAT...</td>\n",
       "    </tr>\n",
       "  </tbody>\n",
       "</table>\n",
       "</div>"
      ],
      "text/plain": [
       "           Id                                                Des       Gen  \\\n",
       "0  KY465671.1  Sacbrood virus strain WA2 polyprotein gene, co...  ssRNA(+)   \n",
       "1  KY465672.1  Sacbrood virus strain WA1 polyprotein gene, co...  ssRNA(+)   \n",
       "2  KY465673.1  Sacbrood virus strain VN3 polyprotein gene, co...  ssRNA(+)   \n",
       "3  KY465674.1  Sacbrood virus strain VN2 polyprotein gene, co...  ssRNA(+)   \n",
       "4  KY465675.1  Sacbrood virus strain VN1 polyprotein gene, co...  ssRNA(+)   \n",
       "\n",
       "                                                 Seq  \n",
       "0  TACGAATCGTGATTCGATTCATTATTTCGCCTGAGTAAATCGAGAT...  \n",
       "1  TACGAATCGTGATTCGATTCATTGTTTCGCCTGAGTAAATCGAGAT...  \n",
       "2  TACGAATCGTGATTCGATTCATTGTTTCGCCTGAGTAAATCGAGAT...  \n",
       "3  TACGAATCGTGATTCGATTCATTGTTTCGCCTGAGTAAATCGAGAT...  \n",
       "4  TACGAATCGTGATTCGATTCATTGTTTCGCCTGAGTAAATCGAGAT...  "
      ]
     },
     "execution_count": 4,
     "metadata": {},
     "output_type": "execute_result"
    }
   ],
   "source": [
    "# examine first few rows \n",
    "df.head() "
   ]
  },
  {
   "cell_type": "code",
   "execution_count": 5,
   "metadata": {},
   "outputs": [
    {
     "data": {
      "text/plain": [
       "Index(['Id', 'Des', 'Gen', 'Seq'], dtype='object')"
      ]
     },
     "execution_count": 5,
     "metadata": {},
     "output_type": "execute_result"
    }
   ],
   "source": [
    "# columns names \n",
    "df.columns "
   ]
  },
  {
   "cell_type": "code",
   "execution_count": 6,
   "metadata": {},
   "outputs": [
    {
     "data": {
      "text/plain": [
       "(43090, 4)"
      ]
     },
     "execution_count": 6,
     "metadata": {},
     "output_type": "execute_result"
    }
   ],
   "source": [
    "# observations X columns \n",
    "df.shape"
   ]
  },
  {
   "cell_type": "code",
   "execution_count": 7,
   "metadata": {},
   "outputs": [
    {
     "name": "stdout",
     "output_type": "stream",
     "text": [
      "<class 'pandas.core.frame.DataFrame'>\n",
      "RangeIndex: 43090 entries, 0 to 43089\n",
      "Data columns (total 4 columns):\n",
      " #   Column  Non-Null Count  Dtype \n",
      "---  ------  --------------  ----- \n",
      " 0   Id      43090 non-null  object\n",
      " 1   Des     43090 non-null  object\n",
      " 2   Gen     43090 non-null  object\n",
      " 3   Seq     43090 non-null  object\n",
      "dtypes: object(4)\n",
      "memory usage: 1.3+ MB\n"
     ]
    }
   ],
   "source": [
    "# basic info \n",
    "df.info() "
   ]
  },
  {
   "cell_type": "code",
   "execution_count": 8,
   "metadata": {},
   "outputs": [
    {
     "data": {
      "text/html": [
       "<div>\n",
       "<style scoped>\n",
       "    .dataframe tbody tr th:only-of-type {\n",
       "        vertical-align: middle;\n",
       "    }\n",
       "\n",
       "    .dataframe tbody tr th {\n",
       "        vertical-align: top;\n",
       "    }\n",
       "\n",
       "    .dataframe thead th {\n",
       "        text-align: right;\n",
       "    }\n",
       "</style>\n",
       "<table border=\"1\" class=\"dataframe\">\n",
       "  <thead>\n",
       "    <tr style=\"text-align: right;\">\n",
       "      <th></th>\n",
       "      <th>Des</th>\n",
       "      <th>Gen</th>\n",
       "      <th>Seq</th>\n",
       "    </tr>\n",
       "    <tr>\n",
       "      <th>Id</th>\n",
       "      <th></th>\n",
       "      <th></th>\n",
       "      <th></th>\n",
       "    </tr>\n",
       "  </thead>\n",
       "  <tbody>\n",
       "    <tr>\n",
       "      <th>KY465671.1</th>\n",
       "      <td>Sacbrood virus strain WA2 polyprotein gene, co...</td>\n",
       "      <td>ssRNA(+)</td>\n",
       "      <td>TACGAATCGTGATTCGATTCATTATTTCGCCTGAGTAAATCGAGAT...</td>\n",
       "    </tr>\n",
       "    <tr>\n",
       "      <th>KY465672.1</th>\n",
       "      <td>Sacbrood virus strain WA1 polyprotein gene, co...</td>\n",
       "      <td>ssRNA(+)</td>\n",
       "      <td>TACGAATCGTGATTCGATTCATTGTTTCGCCTGAGTAAATCGAGAT...</td>\n",
       "    </tr>\n",
       "    <tr>\n",
       "      <th>KY465673.1</th>\n",
       "      <td>Sacbrood virus strain VN3 polyprotein gene, co...</td>\n",
       "      <td>ssRNA(+)</td>\n",
       "      <td>TACGAATCGTGATTCGATTCATTGTTTCGCCTGAGTAAATCGAGAT...</td>\n",
       "    </tr>\n",
       "    <tr>\n",
       "      <th>KY465674.1</th>\n",
       "      <td>Sacbrood virus strain VN2 polyprotein gene, co...</td>\n",
       "      <td>ssRNA(+)</td>\n",
       "      <td>TACGAATCGTGATTCGATTCATTGTTTCGCCTGAGTAAATCGAGAT...</td>\n",
       "    </tr>\n",
       "    <tr>\n",
       "      <th>KY465675.1</th>\n",
       "      <td>Sacbrood virus strain VN1 polyprotein gene, co...</td>\n",
       "      <td>ssRNA(+)</td>\n",
       "      <td>TACGAATCGTGATTCGATTCATTGTTTCGCCTGAGTAAATCGAGAT...</td>\n",
       "    </tr>\n",
       "  </tbody>\n",
       "</table>\n",
       "</div>"
      ],
      "text/plain": [
       "                                                          Des       Gen  \\\n",
       "Id                                                                        \n",
       "KY465671.1  Sacbrood virus strain WA2 polyprotein gene, co...  ssRNA(+)   \n",
       "KY465672.1  Sacbrood virus strain WA1 polyprotein gene, co...  ssRNA(+)   \n",
       "KY465673.1  Sacbrood virus strain VN3 polyprotein gene, co...  ssRNA(+)   \n",
       "KY465674.1  Sacbrood virus strain VN2 polyprotein gene, co...  ssRNA(+)   \n",
       "KY465675.1  Sacbrood virus strain VN1 polyprotein gene, co...  ssRNA(+)   \n",
       "\n",
       "                                                          Seq  \n",
       "Id                                                             \n",
       "KY465671.1  TACGAATCGTGATTCGATTCATTATTTCGCCTGAGTAAATCGAGAT...  \n",
       "KY465672.1  TACGAATCGTGATTCGATTCATTGTTTCGCCTGAGTAAATCGAGAT...  \n",
       "KY465673.1  TACGAATCGTGATTCGATTCATTGTTTCGCCTGAGTAAATCGAGAT...  \n",
       "KY465674.1  TACGAATCGTGATTCGATTCATTGTTTCGCCTGAGTAAATCGAGAT...  \n",
       "KY465675.1  TACGAATCGTGATTCGATTCATTGTTTCGCCTGAGTAAATCGAGAT...  "
      ]
     },
     "execution_count": 8,
     "metadata": {},
     "output_type": "execute_result"
    }
   ],
   "source": [
    "# set index as Id \n",
    "df = df.set_index('Id')\n",
    "df.head() "
   ]
  },
  {
   "cell_type": "markdown",
   "metadata": {},
   "source": [
    "## Missing Values "
   ]
  },
  {
   "cell_type": "code",
   "execution_count": 9,
   "metadata": {},
   "outputs": [
    {
     "data": {
      "image/png": "[encoded data removed]",
      "text/plain": [
       "<Figure size 720x576 with 2 Axes>"
      ]
     },
     "metadata": {},
     "output_type": "display_data"
    }
   ],
   "source": [
    "# missing values \n",
    "sns.heatmap(df.isnull(), cmap='viridis');"
   ]
  },
  {
   "cell_type": "markdown",
   "metadata": {},
   "source": [
    "## Data Cleaning "
   ]
  },
  {
   "cell_type": "code",
   "execution_count": 10,
   "metadata": {},
   "outputs": [
    {
     "data": {
      "text/plain": [
       "Id\n",
       "KY465671.1    TACGAATCGTGATTCGATTCATTATTTCGCCTGAGTAAATCGAGAT...\n",
       "KY465672.1    TACGAATCGTGATTCGATTCATTGTTTCGCCTGAGTAAATCGAGAT...\n",
       "KY465673.1    TACGAATCGTGATTCGATTCATTGTTTCGCCTGAGTAAATCGAGAT...\n",
       "KY465674.1    TACGAATCGTGATTCGATTCATTGTTTCGCCTGAGTAAATCGAGAT...\n",
       "KY465675.1    TACGAATCGTGATTCGATTCATTGTTTCGCCTGAGTAAATCGAGAT...\n",
       "                                    ...                        \n",
       "KR054750.1    TAATGACAGGGCTCAAGGAAGTGCTGCAAAATTTCAGCAAAAACCA...\n",
       "KT220420.1    ACCAGCGCACTTCGGCAGCGGCAGCACCTCGGCAGCACCTCAGCAG...\n",
       "KT272765.1    ACCGGATGCCCGCGGAGCCAAAAAGTGACCCCACAGGACACGTGCA...\n",
       "KT272766.1    ACCGGATGGCCGCCGGATCCCATTTGTGCGGACCCCACAGAGTCTC...\n",
       "KT272767.1    ACCGGATGCCCGCGGAGCCAAAAAGTGACCCCACAGGACACGTGCA...\n",
       "Name: Seq, Length: 43090, dtype: object"
      ]
     },
     "execution_count": 10,
     "metadata": {},
     "output_type": "execute_result"
    }
   ],
   "source": [
    "# replace newline or tab character with empty space\n",
    "df.Seq.str.replace(\"\\n\", \"\")\n",
    "df.Seq.str.replace(\"\\t\", \"\")"
   ]
  },
  {
   "cell_type": "code",
   "execution_count": 11,
   "metadata": {},
   "outputs": [
    {
     "data": {
      "text/plain": [
       "8832"
      ]
     },
     "execution_count": 11,
     "metadata": {},
     "output_type": "execute_result"
    }
   ],
   "source": [
    "# check length of first seq \n",
    "len(df.Seq.iloc[0]) "
   ]
  },
  {
   "cell_type": "markdown",
   "metadata": {},
   "source": [
    "## Task #1: Finding the Length of each Sequences and Creating a Length Column "
   ]
  },
  {
   "cell_type": "code",
   "execution_count": 12,
   "metadata": {},
   "outputs": [
    {
     "data": {
      "text/plain": [
       "45"
      ]
     },
     "execution_count": 12,
     "metadata": {},
     "output_type": "execute_result"
    }
   ],
   "source": [
    "# find the length \n",
    "L = lambda seq: len(seq)\n",
    "# test\n",
    "L('TGGATTTGTTAGTGATACGAATCGCTTTATAATCATATGTTTCTC')"
   ]
  },
  {
   "cell_type": "code",
   "execution_count": 13,
   "metadata": {},
   "outputs": [],
   "source": [
    "# seqLen apply \n",
    "df['Len'] = df['Seq'].apply(lambda seq: len(seq))"
   ]
  },
  {
   "cell_type": "code",
   "execution_count": 14,
   "metadata": {},
   "outputs": [
    {
     "data": {
      "text/html": [
       "<div>\n",
       "<style scoped>\n",
       "    .dataframe tbody tr th:only-of-type {\n",
       "        vertical-align: middle;\n",
       "    }\n",
       "\n",
       "    .dataframe tbody tr th {\n",
       "        vertical-align: top;\n",
       "    }\n",
       "\n",
       "    .dataframe thead th {\n",
       "        text-align: right;\n",
       "    }\n",
       "</style>\n",
       "<table border=\"1\" class=\"dataframe\">\n",
       "  <thead>\n",
       "    <tr style=\"text-align: right;\">\n",
       "      <th></th>\n",
       "      <th>Des</th>\n",
       "      <th>Gen</th>\n",
       "      <th>Seq</th>\n",
       "      <th>Len</th>\n",
       "    </tr>\n",
       "    <tr>\n",
       "      <th>Id</th>\n",
       "      <th></th>\n",
       "      <th></th>\n",
       "      <th></th>\n",
       "      <th></th>\n",
       "    </tr>\n",
       "  </thead>\n",
       "  <tbody>\n",
       "    <tr>\n",
       "      <th>KY465671.1</th>\n",
       "      <td>Sacbrood virus strain WA2 polyprotein gene, co...</td>\n",
       "      <td>ssRNA(+)</td>\n",
       "      <td>TACGAATCGTGATTCGATTCATTATTTCGCCTGAGTAAATCGAGAT...</td>\n",
       "      <td>8832</td>\n",
       "    </tr>\n",
       "    <tr>\n",
       "      <th>KY465672.1</th>\n",
       "      <td>Sacbrood virus strain WA1 polyprotein gene, co...</td>\n",
       "      <td>ssRNA(+)</td>\n",
       "      <td>TACGAATCGTGATTCGATTCATTGTTTCGCCTGAGTAAATCGAGAT...</td>\n",
       "      <td>8832</td>\n",
       "    </tr>\n",
       "    <tr>\n",
       "      <th>KY465673.1</th>\n",
       "      <td>Sacbrood virus strain VN3 polyprotein gene, co...</td>\n",
       "      <td>ssRNA(+)</td>\n",
       "      <td>TACGAATCGTGATTCGATTCATTGTTTCGCCTGAGTAAATCGAGAT...</td>\n",
       "      <td>8820</td>\n",
       "    </tr>\n",
       "    <tr>\n",
       "      <th>KY465674.1</th>\n",
       "      <td>Sacbrood virus strain VN2 polyprotein gene, co...</td>\n",
       "      <td>ssRNA(+)</td>\n",
       "      <td>TACGAATCGTGATTCGATTCATTGTTTCGCCTGAGTAAATCGAGAT...</td>\n",
       "      <td>8832</td>\n",
       "    </tr>\n",
       "    <tr>\n",
       "      <th>KY465675.1</th>\n",
       "      <td>Sacbrood virus strain VN1 polyprotein gene, co...</td>\n",
       "      <td>ssRNA(+)</td>\n",
       "      <td>TACGAATCGTGATTCGATTCATTGTTTCGCCTGAGTAAATCGAGAT...</td>\n",
       "      <td>8835</td>\n",
       "    </tr>\n",
       "    <tr>\n",
       "      <th>KY465676.1</th>\n",
       "      <td>Sacbrood virus strain TAS polyprotein gene, co...</td>\n",
       "      <td>ssRNA(+)</td>\n",
       "      <td>TACGAATCGTGATTCGATTCATTATTTCGCCTGAGTAAATCGAGAT...</td>\n",
       "      <td>8835</td>\n",
       "    </tr>\n",
       "    <tr>\n",
       "      <th>KY465677.1</th>\n",
       "      <td>Sacbrood virus strain SA polyprotein gene, com...</td>\n",
       "      <td>ssRNA(+)</td>\n",
       "      <td>TACGAATCGTGATTCGATTCATTGTTTCGCCTGAGTAAATCGAGAT...</td>\n",
       "      <td>8823</td>\n",
       "    </tr>\n",
       "    <tr>\n",
       "      <th>KY465678.1</th>\n",
       "      <td>Sacbrood virus strain QLD polyprotein gene, co...</td>\n",
       "      <td>ssRNA(+)</td>\n",
       "      <td>TACGAATCGTGATTCGATTCATTGTTTCGCCTGAGTAAATCGAGAT...</td>\n",
       "      <td>8835</td>\n",
       "    </tr>\n",
       "    <tr>\n",
       "      <th>KY465679.1</th>\n",
       "      <td>Sacbrood virus strain NT polyprotein gene, com...</td>\n",
       "      <td>ssRNA(+)</td>\n",
       "      <td>TACGAATCGTGATTCGATTCATTATTTCGCCTGAGTAAATCGAGAT...</td>\n",
       "      <td>8830</td>\n",
       "    </tr>\n",
       "    <tr>\n",
       "      <th>KY465689.1</th>\n",
       "      <td>Israeli acute paralysis virus strain WA1 non-s...</td>\n",
       "      <td>ssRNA(+)</td>\n",
       "      <td>GAGCGTCGATCCCCCGTATGGAGTGGAGAATATAAGGCTCAGCTAG...</td>\n",
       "      <td>9498</td>\n",
       "    </tr>\n",
       "  </tbody>\n",
       "</table>\n",
       "</div>"
      ],
      "text/plain": [
       "                                                          Des       Gen  \\\n",
       "Id                                                                        \n",
       "KY465671.1  Sacbrood virus strain WA2 polyprotein gene, co...  ssRNA(+)   \n",
       "KY465672.1  Sacbrood virus strain WA1 polyprotein gene, co...  ssRNA(+)   \n",
       "KY465673.1  Sacbrood virus strain VN3 polyprotein gene, co...  ssRNA(+)   \n",
       "KY465674.1  Sacbrood virus strain VN2 polyprotein gene, co...  ssRNA(+)   \n",
       "KY465675.1  Sacbrood virus strain VN1 polyprotein gene, co...  ssRNA(+)   \n",
       "KY465676.1  Sacbrood virus strain TAS polyprotein gene, co...  ssRNA(+)   \n",
       "KY465677.1  Sacbrood virus strain SA polyprotein gene, com...  ssRNA(+)   \n",
       "KY465678.1  Sacbrood virus strain QLD polyprotein gene, co...  ssRNA(+)   \n",
       "KY465679.1  Sacbrood virus strain NT polyprotein gene, com...  ssRNA(+)   \n",
       "KY465689.1  Israeli acute paralysis virus strain WA1 non-s...  ssRNA(+)   \n",
       "\n",
       "                                                          Seq   Len  \n",
       "Id                                                                   \n",
       "KY465671.1  TACGAATCGTGATTCGATTCATTATTTCGCCTGAGTAAATCGAGAT...  8832  \n",
       "KY465672.1  TACGAATCGTGATTCGATTCATTGTTTCGCCTGAGTAAATCGAGAT...  8832  \n",
       "KY465673.1  TACGAATCGTGATTCGATTCATTGTTTCGCCTGAGTAAATCGAGAT...  8820  \n",
       "KY465674.1  TACGAATCGTGATTCGATTCATTGTTTCGCCTGAGTAAATCGAGAT...  8832  \n",
       "KY465675.1  TACGAATCGTGATTCGATTCATTGTTTCGCCTGAGTAAATCGAGAT...  8835  \n",
       "KY465676.1  TACGAATCGTGATTCGATTCATTATTTCGCCTGAGTAAATCGAGAT...  8835  \n",
       "KY465677.1  TACGAATCGTGATTCGATTCATTGTTTCGCCTGAGTAAATCGAGAT...  8823  \n",
       "KY465678.1  TACGAATCGTGATTCGATTCATTGTTTCGCCTGAGTAAATCGAGAT...  8835  \n",
       "KY465679.1  TACGAATCGTGATTCGATTCATTATTTCGCCTGAGTAAATCGAGAT...  8830  \n",
       "KY465689.1  GAGCGTCGATCCCCCGTATGGAGTGGAGAATATAAGGCTCAGCTAG...  9498  "
      ]
     },
     "execution_count": 14,
     "metadata": {},
     "output_type": "execute_result"
    }
   ],
   "source": [
    "df.head(10)"
   ]
  },
  {
   "cell_type": "markdown",
   "metadata": {},
   "source": [
    "## Task #2: Calculating GC Ratio and Creating GC Column"
   ]
  },
  {
   "cell_type": "markdown",
   "metadata": {},
   "source": [
    "### GC Usefulness \n",
    "- GC-content (or guanine-cytosine content) is the percentage of nitrogenous bases in a DNA or RNA molecule that are either guanine (G) or cytosine (C)\n",
    "- In polymerase chain reaction (PCR) experiments, the GC-content of short oligonucleotides known as primers is often used to predict their annealing temperature to the template DNA.\n",
    "- A higher GC-content level indicates a relatively higher melting temperature.\n",
    "- DNA with low GC-content is less stable than DNA with high GC-content"
   ]
  },
  {
   "cell_type": "code",
   "execution_count": 15,
   "metadata": {},
   "outputs": [],
   "source": [
    "def calculateGC(seq): \n",
    "    \"\"\"Returns GC Ratio of a sequence\"\"\"\n",
    "    return round((seq.count('G') + seq.count('C'))/len(seq) * 100, 2) "
   ]
  },
  {
   "cell_type": "code",
   "execution_count": 16,
   "metadata": {},
   "outputs": [
    {
     "data": {
      "text/plain": [
       "30.43"
      ]
     },
     "execution_count": 16,
     "metadata": {},
     "output_type": "execute_result"
    }
   ],
   "source": [
    "# test fun\n",
    "calculateGC('TGGATTTGTTAGTGATACGAATCGCTTTATAATCATATGTTTCTCT')"
   ]
  },
  {
   "cell_type": "code",
   "execution_count": 17,
   "metadata": {},
   "outputs": [],
   "source": [
    "# calculateGC apply\n",
    "df['GC'] = df['Seq'].apply(calculateGC)"
   ]
  },
  {
   "cell_type": "code",
   "execution_count": 18,
   "metadata": {},
   "outputs": [
    {
     "data": {
      "text/html": [
       "<div>\n",
       "<style scoped>\n",
       "    .dataframe tbody tr th:only-of-type {\n",
       "        vertical-align: middle;\n",
       "    }\n",
       "\n",
       "    .dataframe tbody tr th {\n",
       "        vertical-align: top;\n",
       "    }\n",
       "\n",
       "    .dataframe thead th {\n",
       "        text-align: right;\n",
       "    }\n",
       "</style>\n",
       "<table border=\"1\" class=\"dataframe\">\n",
       "  <thead>\n",
       "    <tr style=\"text-align: right;\">\n",
       "      <th></th>\n",
       "      <th>Des</th>\n",
       "      <th>Gen</th>\n",
       "      <th>Seq</th>\n",
       "      <th>Len</th>\n",
       "      <th>GC</th>\n",
       "    </tr>\n",
       "    <tr>\n",
       "      <th>Id</th>\n",
       "      <th></th>\n",
       "      <th></th>\n",
       "      <th></th>\n",
       "      <th></th>\n",
       "      <th></th>\n",
       "    </tr>\n",
       "  </thead>\n",
       "  <tbody>\n",
       "    <tr>\n",
       "      <th>KY465671.1</th>\n",
       "      <td>Sacbrood virus strain WA2 polyprotein gene, co...</td>\n",
       "      <td>ssRNA(+)</td>\n",
       "      <td>TACGAATCGTGATTCGATTCATTATTTCGCCTGAGTAAATCGAGAT...</td>\n",
       "      <td>8832</td>\n",
       "      <td>40.99</td>\n",
       "    </tr>\n",
       "    <tr>\n",
       "      <th>KY465672.1</th>\n",
       "      <td>Sacbrood virus strain WA1 polyprotein gene, co...</td>\n",
       "      <td>ssRNA(+)</td>\n",
       "      <td>TACGAATCGTGATTCGATTCATTGTTTCGCCTGAGTAAATCGAGAT...</td>\n",
       "      <td>8832</td>\n",
       "      <td>41.01</td>\n",
       "    </tr>\n",
       "    <tr>\n",
       "      <th>KY465673.1</th>\n",
       "      <td>Sacbrood virus strain VN3 polyprotein gene, co...</td>\n",
       "      <td>ssRNA(+)</td>\n",
       "      <td>TACGAATCGTGATTCGATTCATTGTTTCGCCTGAGTAAATCGAGAT...</td>\n",
       "      <td>8820</td>\n",
       "      <td>40.92</td>\n",
       "    </tr>\n",
       "    <tr>\n",
       "      <th>KY465674.1</th>\n",
       "      <td>Sacbrood virus strain VN2 polyprotein gene, co...</td>\n",
       "      <td>ssRNA(+)</td>\n",
       "      <td>TACGAATCGTGATTCGATTCATTGTTTCGCCTGAGTAAATCGAGAT...</td>\n",
       "      <td>8832</td>\n",
       "      <td>40.87</td>\n",
       "    </tr>\n",
       "    <tr>\n",
       "      <th>KY465675.1</th>\n",
       "      <td>Sacbrood virus strain VN1 polyprotein gene, co...</td>\n",
       "      <td>ssRNA(+)</td>\n",
       "      <td>TACGAATCGTGATTCGATTCATTGTTTCGCCTGAGTAAATCGAGAT...</td>\n",
       "      <td>8835</td>\n",
       "      <td>41.02</td>\n",
       "    </tr>\n",
       "    <tr>\n",
       "      <th>KY465676.1</th>\n",
       "      <td>Sacbrood virus strain TAS polyprotein gene, co...</td>\n",
       "      <td>ssRNA(+)</td>\n",
       "      <td>TACGAATCGTGATTCGATTCATTATTTCGCCTGAGTAAATCGAGAT...</td>\n",
       "      <td>8835</td>\n",
       "      <td>40.84</td>\n",
       "    </tr>\n",
       "    <tr>\n",
       "      <th>KY465677.1</th>\n",
       "      <td>Sacbrood virus strain SA polyprotein gene, com...</td>\n",
       "      <td>ssRNA(+)</td>\n",
       "      <td>TACGAATCGTGATTCGATTCATTGTTTCGCCTGAGTAAATCGAGAT...</td>\n",
       "      <td>8823</td>\n",
       "      <td>40.78</td>\n",
       "    </tr>\n",
       "    <tr>\n",
       "      <th>KY465678.1</th>\n",
       "      <td>Sacbrood virus strain QLD polyprotein gene, co...</td>\n",
       "      <td>ssRNA(+)</td>\n",
       "      <td>TACGAATCGTGATTCGATTCATTGTTTCGCCTGAGTAAATCGAGAT...</td>\n",
       "      <td>8835</td>\n",
       "      <td>40.84</td>\n",
       "    </tr>\n",
       "    <tr>\n",
       "      <th>KY465679.1</th>\n",
       "      <td>Sacbrood virus strain NT polyprotein gene, com...</td>\n",
       "      <td>ssRNA(+)</td>\n",
       "      <td>TACGAATCGTGATTCGATTCATTATTTCGCCTGAGTAAATCGAGAT...</td>\n",
       "      <td>8830</td>\n",
       "      <td>40.53</td>\n",
       "    </tr>\n",
       "    <tr>\n",
       "      <th>KY465689.1</th>\n",
       "      <td>Israeli acute paralysis virus strain WA1 non-s...</td>\n",
       "      <td>ssRNA(+)</td>\n",
       "      <td>GAGCGTCGATCCCCCGTATGGAGTGGAGAATATAAGGCTCAGCTAG...</td>\n",
       "      <td>9498</td>\n",
       "      <td>37.98</td>\n",
       "    </tr>\n",
       "  </tbody>\n",
       "</table>\n",
       "</div>"
      ],
      "text/plain": [
       "                                                          Des       Gen  \\\n",
       "Id                                                                        \n",
       "KY465671.1  Sacbrood virus strain WA2 polyprotein gene, co...  ssRNA(+)   \n",
       "KY465672.1  Sacbrood virus strain WA1 polyprotein gene, co...  ssRNA(+)   \n",
       "KY465673.1  Sacbrood virus strain VN3 polyprotein gene, co...  ssRNA(+)   \n",
       "KY465674.1  Sacbrood virus strain VN2 polyprotein gene, co...  ssRNA(+)   \n",
       "KY465675.1  Sacbrood virus strain VN1 polyprotein gene, co...  ssRNA(+)   \n",
       "KY465676.1  Sacbrood virus strain TAS polyprotein gene, co...  ssRNA(+)   \n",
       "KY465677.1  Sacbrood virus strain SA polyprotein gene, com...  ssRNA(+)   \n",
       "KY465678.1  Sacbrood virus strain QLD polyprotein gene, co...  ssRNA(+)   \n",
       "KY465679.1  Sacbrood virus strain NT polyprotein gene, com...  ssRNA(+)   \n",
       "KY465689.1  Israeli acute paralysis virus strain WA1 non-s...  ssRNA(+)   \n",
       "\n",
       "                                                          Seq   Len     GC  \n",
       "Id                                                                          \n",
       "KY465671.1  TACGAATCGTGATTCGATTCATTATTTCGCCTGAGTAAATCGAGAT...  8832  40.99  \n",
       "KY465672.1  TACGAATCGTGATTCGATTCATTGTTTCGCCTGAGTAAATCGAGAT...  8832  41.01  \n",
       "KY465673.1  TACGAATCGTGATTCGATTCATTGTTTCGCCTGAGTAAATCGAGAT...  8820  40.92  \n",
       "KY465674.1  TACGAATCGTGATTCGATTCATTGTTTCGCCTGAGTAAATCGAGAT...  8832  40.87  \n",
       "KY465675.1  TACGAATCGTGATTCGATTCATTGTTTCGCCTGAGTAAATCGAGAT...  8835  41.02  \n",
       "KY465676.1  TACGAATCGTGATTCGATTCATTATTTCGCCTGAGTAAATCGAGAT...  8835  40.84  \n",
       "KY465677.1  TACGAATCGTGATTCGATTCATTGTTTCGCCTGAGTAAATCGAGAT...  8823  40.78  \n",
       "KY465678.1  TACGAATCGTGATTCGATTCATTGTTTCGCCTGAGTAAATCGAGAT...  8835  40.84  \n",
       "KY465679.1  TACGAATCGTGATTCGATTCATTATTTCGCCTGAGTAAATCGAGAT...  8830  40.53  \n",
       "KY465689.1  GAGCGTCGATCCCCCGTATGGAGTGGAGAATATAAGGCTCAGCTAG...  9498  37.98  "
      ]
     },
     "execution_count": 18,
     "metadata": {},
     "output_type": "execute_result"
    }
   ],
   "source": [
    "df.head(10)"
   ]
  },
  {
   "cell_type": "markdown",
   "metadata": {},
   "source": [
    "## Task #3: Finding the % of N and Creating % of N Column\n",
    "The bases marked by N could not be identified due to the low quality of the DNA sequence."
   ]
  },
  {
   "cell_type": "code",
   "execution_count": 19,
   "metadata": {},
   "outputs": [
    {
     "data": {
      "text/plain": [
       "8.16"
      ]
     },
     "execution_count": 19,
     "metadata": {},
     "output_type": "execute_result"
    }
   ],
   "source": [
    "counts = lambda seq: round((seq.count('N') /len(seq)) * 100,2)\n",
    "# test\n",
    "counts('TGGATTTGTTAGTGATACGANATCGCTTTATAATCATNATGTTTNCTCN')"
   ]
  },
  {
   "cell_type": "code",
   "execution_count": 20,
   "metadata": {},
   "outputs": [],
   "source": [
    "# create a column N \n",
    "df['%N'] = df['Seq'].apply(lambda seq: seq.count('N'))"
   ]
  },
  {
   "cell_type": "code",
   "execution_count": 21,
   "metadata": {},
   "outputs": [
    {
     "data": {
      "text/html": [
       "<div>\n",
       "<style scoped>\n",
       "    .dataframe tbody tr th:only-of-type {\n",
       "        vertical-align: middle;\n",
       "    }\n",
       "\n",
       "    .dataframe tbody tr th {\n",
       "        vertical-align: top;\n",
       "    }\n",
       "\n",
       "    .dataframe thead th {\n",
       "        text-align: right;\n",
       "    }\n",
       "</style>\n",
       "<table border=\"1\" class=\"dataframe\">\n",
       "  <thead>\n",
       "    <tr style=\"text-align: right;\">\n",
       "      <th></th>\n",
       "      <th>Des</th>\n",
       "      <th>Gen</th>\n",
       "      <th>Seq</th>\n",
       "      <th>Len</th>\n",
       "      <th>GC</th>\n",
       "      <th>%N</th>\n",
       "    </tr>\n",
       "    <tr>\n",
       "      <th>Id</th>\n",
       "      <th></th>\n",
       "      <th></th>\n",
       "      <th></th>\n",
       "      <th></th>\n",
       "      <th></th>\n",
       "      <th></th>\n",
       "    </tr>\n",
       "  </thead>\n",
       "  <tbody>\n",
       "    <tr>\n",
       "      <th>KY465671.1</th>\n",
       "      <td>Sacbrood virus strain WA2 polyprotein gene, co...</td>\n",
       "      <td>ssRNA(+)</td>\n",
       "      <td>TACGAATCGTGATTCGATTCATTATTTCGCCTGAGTAAATCGAGAT...</td>\n",
       "      <td>8832</td>\n",
       "      <td>40.99</td>\n",
       "      <td>0</td>\n",
       "    </tr>\n",
       "    <tr>\n",
       "      <th>KY465672.1</th>\n",
       "      <td>Sacbrood virus strain WA1 polyprotein gene, co...</td>\n",
       "      <td>ssRNA(+)</td>\n",
       "      <td>TACGAATCGTGATTCGATTCATTGTTTCGCCTGAGTAAATCGAGAT...</td>\n",
       "      <td>8832</td>\n",
       "      <td>41.01</td>\n",
       "      <td>0</td>\n",
       "    </tr>\n",
       "    <tr>\n",
       "      <th>KY465673.1</th>\n",
       "      <td>Sacbrood virus strain VN3 polyprotein gene, co...</td>\n",
       "      <td>ssRNA(+)</td>\n",
       "      <td>TACGAATCGTGATTCGATTCATTGTTTCGCCTGAGTAAATCGAGAT...</td>\n",
       "      <td>8820</td>\n",
       "      <td>40.92</td>\n",
       "      <td>0</td>\n",
       "    </tr>\n",
       "    <tr>\n",
       "      <th>KY465674.1</th>\n",
       "      <td>Sacbrood virus strain VN2 polyprotein gene, co...</td>\n",
       "      <td>ssRNA(+)</td>\n",
       "      <td>TACGAATCGTGATTCGATTCATTGTTTCGCCTGAGTAAATCGAGAT...</td>\n",
       "      <td>8832</td>\n",
       "      <td>40.87</td>\n",
       "      <td>0</td>\n",
       "    </tr>\n",
       "    <tr>\n",
       "      <th>KY465675.1</th>\n",
       "      <td>Sacbrood virus strain VN1 polyprotein gene, co...</td>\n",
       "      <td>ssRNA(+)</td>\n",
       "      <td>TACGAATCGTGATTCGATTCATTGTTTCGCCTGAGTAAATCGAGAT...</td>\n",
       "      <td>8835</td>\n",
       "      <td>41.02</td>\n",
       "      <td>0</td>\n",
       "    </tr>\n",
       "    <tr>\n",
       "      <th>KY465676.1</th>\n",
       "      <td>Sacbrood virus strain TAS polyprotein gene, co...</td>\n",
       "      <td>ssRNA(+)</td>\n",
       "      <td>TACGAATCGTGATTCGATTCATTATTTCGCCTGAGTAAATCGAGAT...</td>\n",
       "      <td>8835</td>\n",
       "      <td>40.84</td>\n",
       "      <td>0</td>\n",
       "    </tr>\n",
       "    <tr>\n",
       "      <th>KY465677.1</th>\n",
       "      <td>Sacbrood virus strain SA polyprotein gene, com...</td>\n",
       "      <td>ssRNA(+)</td>\n",
       "      <td>TACGAATCGTGATTCGATTCATTGTTTCGCCTGAGTAAATCGAGAT...</td>\n",
       "      <td>8823</td>\n",
       "      <td>40.78</td>\n",
       "      <td>0</td>\n",
       "    </tr>\n",
       "    <tr>\n",
       "      <th>KY465678.1</th>\n",
       "      <td>Sacbrood virus strain QLD polyprotein gene, co...</td>\n",
       "      <td>ssRNA(+)</td>\n",
       "      <td>TACGAATCGTGATTCGATTCATTGTTTCGCCTGAGTAAATCGAGAT...</td>\n",
       "      <td>8835</td>\n",
       "      <td>40.84</td>\n",
       "      <td>0</td>\n",
       "    </tr>\n",
       "    <tr>\n",
       "      <th>KY465679.1</th>\n",
       "      <td>Sacbrood virus strain NT polyprotein gene, com...</td>\n",
       "      <td>ssRNA(+)</td>\n",
       "      <td>TACGAATCGTGATTCGATTCATTATTTCGCCTGAGTAAATCGAGAT...</td>\n",
       "      <td>8830</td>\n",
       "      <td>40.53</td>\n",
       "      <td>0</td>\n",
       "    </tr>\n",
       "    <tr>\n",
       "      <th>KY465689.1</th>\n",
       "      <td>Israeli acute paralysis virus strain WA1 non-s...</td>\n",
       "      <td>ssRNA(+)</td>\n",
       "      <td>GAGCGTCGATCCCCCGTATGGAGTGGAGAATATAAGGCTCAGCTAG...</td>\n",
       "      <td>9498</td>\n",
       "      <td>37.98</td>\n",
       "      <td>0</td>\n",
       "    </tr>\n",
       "  </tbody>\n",
       "</table>\n",
       "</div>"
      ],
      "text/plain": [
       "                                                          Des       Gen  \\\n",
       "Id                                                                        \n",
       "KY465671.1  Sacbrood virus strain WA2 polyprotein gene, co...  ssRNA(+)   \n",
       "KY465672.1  Sacbrood virus strain WA1 polyprotein gene, co...  ssRNA(+)   \n",
       "KY465673.1  Sacbrood virus strain VN3 polyprotein gene, co...  ssRNA(+)   \n",
       "KY465674.1  Sacbrood virus strain VN2 polyprotein gene, co...  ssRNA(+)   \n",
       "KY465675.1  Sacbrood virus strain VN1 polyprotein gene, co...  ssRNA(+)   \n",
       "KY465676.1  Sacbrood virus strain TAS polyprotein gene, co...  ssRNA(+)   \n",
       "KY465677.1  Sacbrood virus strain SA polyprotein gene, com...  ssRNA(+)   \n",
       "KY465678.1  Sacbrood virus strain QLD polyprotein gene, co...  ssRNA(+)   \n",
       "KY465679.1  Sacbrood virus strain NT polyprotein gene, com...  ssRNA(+)   \n",
       "KY465689.1  Israeli acute paralysis virus strain WA1 non-s...  ssRNA(+)   \n",
       "\n",
       "                                                          Seq   Len     GC  %N  \n",
       "Id                                                                              \n",
       "KY465671.1  TACGAATCGTGATTCGATTCATTATTTCGCCTGAGTAAATCGAGAT...  8832  40.99   0  \n",
       "KY465672.1  TACGAATCGTGATTCGATTCATTGTTTCGCCTGAGTAAATCGAGAT...  8832  41.01   0  \n",
       "KY465673.1  TACGAATCGTGATTCGATTCATTGTTTCGCCTGAGTAAATCGAGAT...  8820  40.92   0  \n",
       "KY465674.1  TACGAATCGTGATTCGATTCATTGTTTCGCCTGAGTAAATCGAGAT...  8832  40.87   0  \n",
       "KY465675.1  TACGAATCGTGATTCGATTCATTGTTTCGCCTGAGTAAATCGAGAT...  8835  41.02   0  \n",
       "KY465676.1  TACGAATCGTGATTCGATTCATTATTTCGCCTGAGTAAATCGAGAT...  8835  40.84   0  \n",
       "KY465677.1  TACGAATCGTGATTCGATTCATTGTTTCGCCTGAGTAAATCGAGAT...  8823  40.78   0  \n",
       "KY465678.1  TACGAATCGTGATTCGATTCATTGTTTCGCCTGAGTAAATCGAGAT...  8835  40.84   0  \n",
       "KY465679.1  TACGAATCGTGATTCGATTCATTATTTCGCCTGAGTAAATCGAGAT...  8830  40.53   0  \n",
       "KY465689.1  GAGCGTCGATCCCCCGTATGGAGTGGAGAATATAAGGCTCAGCTAG...  9498  37.98   0  "
      ]
     },
     "execution_count": 21,
     "metadata": {},
     "output_type": "execute_result"
    }
   ],
   "source": [
    "df.head(10)"
   ]
  },
  {
   "cell_type": "markdown",
   "metadata": {},
   "source": [
    "## Task #4: Per Base Sequence Content"
   ]
  },
  {
   "cell_type": "code",
   "execution_count": 22,
   "metadata": {},
   "outputs": [
    {
     "data": {
      "text/plain": [
       "22.45"
      ]
     },
     "execution_count": 22,
     "metadata": {},
     "output_type": "execute_result"
    }
   ],
   "source": [
    "A = lambda seq: round((seq.count('A') /len(seq)) * 100,2)\n",
    "# test\n",
    "A('TGGATTTGTTAGTGATACGANATCGCTTTATAATCATNATGTTTNCTCN')"
   ]
  },
  {
   "cell_type": "code",
   "execution_count": 23,
   "metadata": {},
   "outputs": [
    {
     "data": {
      "text/plain": [
       "40.82"
      ]
     },
     "execution_count": 23,
     "metadata": {},
     "output_type": "execute_result"
    }
   ],
   "source": [
    "T = lambda seq: round((seq.count('T') /len(seq)) * 100,2)\n",
    "# test\n",
    "T('TGGATTTGTTAGTGATACGANATCGCTTTATAATCATNATGTTTNCTCN') "
   ]
  },
  {
   "cell_type": "code",
   "execution_count": 24,
   "metadata": {},
   "outputs": [
    {
     "data": {
      "text/plain": [
       "16.33"
      ]
     },
     "execution_count": 24,
     "metadata": {},
     "output_type": "execute_result"
    }
   ],
   "source": [
    "G = lambda seq: round((seq.count('G') /len(seq)) * 100,2)\n",
    "# test\n",
    "G('TGGATTTGTTAGTGATACGANATCGCTTTATAATCATNATGTTTNCTCN') "
   ]
  },
  {
   "cell_type": "code",
   "execution_count": 25,
   "metadata": {},
   "outputs": [
    {
     "data": {
      "text/plain": [
       "12.24"
      ]
     },
     "execution_count": 25,
     "metadata": {},
     "output_type": "execute_result"
    }
   ],
   "source": [
    "C = lambda seq: round((seq.count('C') /len(seq)) * 100,2)\n",
    "# test\n",
    "C('TGGATTTGTTAGTGATACGANATCGCTTTATAATCATNATGTTTNCTCN') "
   ]
  },
  {
   "cell_type": "code",
   "execution_count": 26,
   "metadata": {},
   "outputs": [],
   "source": [
    "# create a column N \n",
    "df['%A'] = df['Seq'].apply(lambda seq: round((seq.count('A') /len(seq)) * 100,2))"
   ]
  },
  {
   "cell_type": "code",
   "execution_count": 27,
   "metadata": {},
   "outputs": [
    {
     "data": {
      "text/html": [
       "<div>\n",
       "<style scoped>\n",
       "    .dataframe tbody tr th:only-of-type {\n",
       "        vertical-align: middle;\n",
       "    }\n",
       "\n",
       "    .dataframe tbody tr th {\n",
       "        vertical-align: top;\n",
       "    }\n",
       "\n",
       "    .dataframe thead th {\n",
       "        text-align: right;\n",
       "    }\n",
       "</style>\n",
       "<table border=\"1\" class=\"dataframe\">\n",
       "  <thead>\n",
       "    <tr style=\"text-align: right;\">\n",
       "      <th></th>\n",
       "      <th>Des</th>\n",
       "      <th>Gen</th>\n",
       "      <th>Seq</th>\n",
       "      <th>Len</th>\n",
       "      <th>GC</th>\n",
       "      <th>%N</th>\n",
       "      <th>%A</th>\n",
       "    </tr>\n",
       "    <tr>\n",
       "      <th>Id</th>\n",
       "      <th></th>\n",
       "      <th></th>\n",
       "      <th></th>\n",
       "      <th></th>\n",
       "      <th></th>\n",
       "      <th></th>\n",
       "      <th></th>\n",
       "    </tr>\n",
       "  </thead>\n",
       "  <tbody>\n",
       "    <tr>\n",
       "      <th>KY465671.1</th>\n",
       "      <td>Sacbrood virus strain WA2 polyprotein gene, co...</td>\n",
       "      <td>ssRNA(+)</td>\n",
       "      <td>TACGAATCGTGATTCGATTCATTATTTCGCCTGAGTAAATCGAGAT...</td>\n",
       "      <td>8832</td>\n",
       "      <td>40.99</td>\n",
       "      <td>0</td>\n",
       "      <td>29.68</td>\n",
       "    </tr>\n",
       "    <tr>\n",
       "      <th>KY465672.1</th>\n",
       "      <td>Sacbrood virus strain WA1 polyprotein gene, co...</td>\n",
       "      <td>ssRNA(+)</td>\n",
       "      <td>TACGAATCGTGATTCGATTCATTGTTTCGCCTGAGTAAATCGAGAT...</td>\n",
       "      <td>8832</td>\n",
       "      <td>41.01</td>\n",
       "      <td>0</td>\n",
       "      <td>29.54</td>\n",
       "    </tr>\n",
       "    <tr>\n",
       "      <th>KY465673.1</th>\n",
       "      <td>Sacbrood virus strain VN3 polyprotein gene, co...</td>\n",
       "      <td>ssRNA(+)</td>\n",
       "      <td>TACGAATCGTGATTCGATTCATTGTTTCGCCTGAGTAAATCGAGAT...</td>\n",
       "      <td>8820</td>\n",
       "      <td>40.92</td>\n",
       "      <td>0</td>\n",
       "      <td>29.75</td>\n",
       "    </tr>\n",
       "    <tr>\n",
       "      <th>KY465674.1</th>\n",
       "      <td>Sacbrood virus strain VN2 polyprotein gene, co...</td>\n",
       "      <td>ssRNA(+)</td>\n",
       "      <td>TACGAATCGTGATTCGATTCATTGTTTCGCCTGAGTAAATCGAGAT...</td>\n",
       "      <td>8832</td>\n",
       "      <td>40.87</td>\n",
       "      <td>0</td>\n",
       "      <td>29.61</td>\n",
       "    </tr>\n",
       "    <tr>\n",
       "      <th>KY465675.1</th>\n",
       "      <td>Sacbrood virus strain VN1 polyprotein gene, co...</td>\n",
       "      <td>ssRNA(+)</td>\n",
       "      <td>TACGAATCGTGATTCGATTCATTGTTTCGCCTGAGTAAATCGAGAT...</td>\n",
       "      <td>8835</td>\n",
       "      <td>41.02</td>\n",
       "      <td>0</td>\n",
       "      <td>29.58</td>\n",
       "    </tr>\n",
       "  </tbody>\n",
       "</table>\n",
       "</div>"
      ],
      "text/plain": [
       "                                                          Des       Gen  \\\n",
       "Id                                                                        \n",
       "KY465671.1  Sacbrood virus strain WA2 polyprotein gene, co...  ssRNA(+)   \n",
       "KY465672.1  Sacbrood virus strain WA1 polyprotein gene, co...  ssRNA(+)   \n",
       "KY465673.1  Sacbrood virus strain VN3 polyprotein gene, co...  ssRNA(+)   \n",
       "KY465674.1  Sacbrood virus strain VN2 polyprotein gene, co...  ssRNA(+)   \n",
       "KY465675.1  Sacbrood virus strain VN1 polyprotein gene, co...  ssRNA(+)   \n",
       "\n",
       "                                                          Seq   Len     GC  \\\n",
       "Id                                                                           \n",
       "KY465671.1  TACGAATCGTGATTCGATTCATTATTTCGCCTGAGTAAATCGAGAT...  8832  40.99   \n",
       "KY465672.1  TACGAATCGTGATTCGATTCATTGTTTCGCCTGAGTAAATCGAGAT...  8832  41.01   \n",
       "KY465673.1  TACGAATCGTGATTCGATTCATTGTTTCGCCTGAGTAAATCGAGAT...  8820  40.92   \n",
       "KY465674.1  TACGAATCGTGATTCGATTCATTGTTTCGCCTGAGTAAATCGAGAT...  8832  40.87   \n",
       "KY465675.1  TACGAATCGTGATTCGATTCATTGTTTCGCCTGAGTAAATCGAGAT...  8835  41.02   \n",
       "\n",
       "            %N     %A  \n",
       "Id                     \n",
       "KY465671.1   0  29.68  \n",
       "KY465672.1   0  29.54  \n",
       "KY465673.1   0  29.75  \n",
       "KY465674.1   0  29.61  \n",
       "KY465675.1   0  29.58  "
      ]
     },
     "execution_count": 27,
     "metadata": {},
     "output_type": "execute_result"
    }
   ],
   "source": [
    "df.head() "
   ]
  },
  {
   "cell_type": "code",
   "execution_count": 28,
   "metadata": {},
   "outputs": [],
   "source": [
    "# create a column N \n",
    "df['%T'] = df['Seq'].apply(lambda seq: round((seq.count('T') /len(seq)) * 100,2))"
   ]
  },
  {
   "cell_type": "code",
   "execution_count": 29,
   "metadata": {},
   "outputs": [
    {
     "data": {
      "text/html": [
       "<div>\n",
       "<style scoped>\n",
       "    .dataframe tbody tr th:only-of-type {\n",
       "        vertical-align: middle;\n",
       "    }\n",
       "\n",
       "    .dataframe tbody tr th {\n",
       "        vertical-align: top;\n",
       "    }\n",
       "\n",
       "    .dataframe thead th {\n",
       "        text-align: right;\n",
       "    }\n",
       "</style>\n",
       "<table border=\"1\" class=\"dataframe\">\n",
       "  <thead>\n",
       "    <tr style=\"text-align: right;\">\n",
       "      <th></th>\n",
       "      <th>Des</th>\n",
       "      <th>Gen</th>\n",
       "      <th>Seq</th>\n",
       "      <th>Len</th>\n",
       "      <th>GC</th>\n",
       "      <th>%N</th>\n",
       "      <th>%A</th>\n",
       "      <th>%T</th>\n",
       "    </tr>\n",
       "    <tr>\n",
       "      <th>Id</th>\n",
       "      <th></th>\n",
       "      <th></th>\n",
       "      <th></th>\n",
       "      <th></th>\n",
       "      <th></th>\n",
       "      <th></th>\n",
       "      <th></th>\n",
       "      <th></th>\n",
       "    </tr>\n",
       "  </thead>\n",
       "  <tbody>\n",
       "    <tr>\n",
       "      <th>KY465671.1</th>\n",
       "      <td>Sacbrood virus strain WA2 polyprotein gene, co...</td>\n",
       "      <td>ssRNA(+)</td>\n",
       "      <td>TACGAATCGTGATTCGATTCATTATTTCGCCTGAGTAAATCGAGAT...</td>\n",
       "      <td>8832</td>\n",
       "      <td>40.99</td>\n",
       "      <td>0</td>\n",
       "      <td>29.68</td>\n",
       "      <td>29.34</td>\n",
       "    </tr>\n",
       "    <tr>\n",
       "      <th>KY465672.1</th>\n",
       "      <td>Sacbrood virus strain WA1 polyprotein gene, co...</td>\n",
       "      <td>ssRNA(+)</td>\n",
       "      <td>TACGAATCGTGATTCGATTCATTGTTTCGCCTGAGTAAATCGAGAT...</td>\n",
       "      <td>8832</td>\n",
       "      <td>41.01</td>\n",
       "      <td>0</td>\n",
       "      <td>29.54</td>\n",
       "      <td>29.45</td>\n",
       "    </tr>\n",
       "    <tr>\n",
       "      <th>KY465673.1</th>\n",
       "      <td>Sacbrood virus strain VN3 polyprotein gene, co...</td>\n",
       "      <td>ssRNA(+)</td>\n",
       "      <td>TACGAATCGTGATTCGATTCATTGTTTCGCCTGAGTAAATCGAGAT...</td>\n",
       "      <td>8820</td>\n",
       "      <td>40.92</td>\n",
       "      <td>0</td>\n",
       "      <td>29.75</td>\n",
       "      <td>29.33</td>\n",
       "    </tr>\n",
       "    <tr>\n",
       "      <th>KY465674.1</th>\n",
       "      <td>Sacbrood virus strain VN2 polyprotein gene, co...</td>\n",
       "      <td>ssRNA(+)</td>\n",
       "      <td>TACGAATCGTGATTCGATTCATTGTTTCGCCTGAGTAAATCGAGAT...</td>\n",
       "      <td>8832</td>\n",
       "      <td>40.87</td>\n",
       "      <td>0</td>\n",
       "      <td>29.61</td>\n",
       "      <td>29.52</td>\n",
       "    </tr>\n",
       "    <tr>\n",
       "      <th>KY465675.1</th>\n",
       "      <td>Sacbrood virus strain VN1 polyprotein gene, co...</td>\n",
       "      <td>ssRNA(+)</td>\n",
       "      <td>TACGAATCGTGATTCGATTCATTGTTTCGCCTGAGTAAATCGAGAT...</td>\n",
       "      <td>8835</td>\n",
       "      <td>41.02</td>\n",
       "      <td>0</td>\n",
       "      <td>29.58</td>\n",
       "      <td>29.41</td>\n",
       "    </tr>\n",
       "  </tbody>\n",
       "</table>\n",
       "</div>"
      ],
      "text/plain": [
       "                                                          Des       Gen  \\\n",
       "Id                                                                        \n",
       "KY465671.1  Sacbrood virus strain WA2 polyprotein gene, co...  ssRNA(+)   \n",
       "KY465672.1  Sacbrood virus strain WA1 polyprotein gene, co...  ssRNA(+)   \n",
       "KY465673.1  Sacbrood virus strain VN3 polyprotein gene, co...  ssRNA(+)   \n",
       "KY465674.1  Sacbrood virus strain VN2 polyprotein gene, co...  ssRNA(+)   \n",
       "KY465675.1  Sacbrood virus strain VN1 polyprotein gene, co...  ssRNA(+)   \n",
       "\n",
       "                                                          Seq   Len     GC  \\\n",
       "Id                                                                           \n",
       "KY465671.1  TACGAATCGTGATTCGATTCATTATTTCGCCTGAGTAAATCGAGAT...  8832  40.99   \n",
       "KY465672.1  TACGAATCGTGATTCGATTCATTGTTTCGCCTGAGTAAATCGAGAT...  8832  41.01   \n",
       "KY465673.1  TACGAATCGTGATTCGATTCATTGTTTCGCCTGAGTAAATCGAGAT...  8820  40.92   \n",
       "KY465674.1  TACGAATCGTGATTCGATTCATTGTTTCGCCTGAGTAAATCGAGAT...  8832  40.87   \n",
       "KY465675.1  TACGAATCGTGATTCGATTCATTGTTTCGCCTGAGTAAATCGAGAT...  8835  41.02   \n",
       "\n",
       "            %N     %A     %T  \n",
       "Id                            \n",
       "KY465671.1   0  29.68  29.34  \n",
       "KY465672.1   0  29.54  29.45  \n",
       "KY465673.1   0  29.75  29.33  \n",
       "KY465674.1   0  29.61  29.52  \n",
       "KY465675.1   0  29.58  29.41  "
      ]
     },
     "execution_count": 29,
     "metadata": {},
     "output_type": "execute_result"
    }
   ],
   "source": [
    "df.head() "
   ]
  },
  {
   "cell_type": "code",
   "execution_count": 30,
   "metadata": {},
   "outputs": [],
   "source": [
    "# create a column N \n",
    "df['%G'] = df['Seq'].apply(lambda seq: round((seq.count('G') /len(seq)) * 100,2))"
   ]
  },
  {
   "cell_type": "code",
   "execution_count": 31,
   "metadata": {},
   "outputs": [
    {
     "data": {
      "text/html": [
       "<div>\n",
       "<style scoped>\n",
       "    .dataframe tbody tr th:only-of-type {\n",
       "        vertical-align: middle;\n",
       "    }\n",
       "\n",
       "    .dataframe tbody tr th {\n",
       "        vertical-align: top;\n",
       "    }\n",
       "\n",
       "    .dataframe thead th {\n",
       "        text-align: right;\n",
       "    }\n",
       "</style>\n",
       "<table border=\"1\" class=\"dataframe\">\n",
       "  <thead>\n",
       "    <tr style=\"text-align: right;\">\n",
       "      <th></th>\n",
       "      <th>Des</th>\n",
       "      <th>Gen</th>\n",
       "      <th>Seq</th>\n",
       "      <th>Len</th>\n",
       "      <th>GC</th>\n",
       "      <th>%N</th>\n",
       "      <th>%A</th>\n",
       "      <th>%T</th>\n",
       "      <th>%G</th>\n",
       "    </tr>\n",
       "    <tr>\n",
       "      <th>Id</th>\n",
       "      <th></th>\n",
       "      <th></th>\n",
       "      <th></th>\n",
       "      <th></th>\n",
       "      <th></th>\n",
       "      <th></th>\n",
       "      <th></th>\n",
       "      <th></th>\n",
       "      <th></th>\n",
       "    </tr>\n",
       "  </thead>\n",
       "  <tbody>\n",
       "    <tr>\n",
       "      <th>KY465671.1</th>\n",
       "      <td>Sacbrood virus strain WA2 polyprotein gene, co...</td>\n",
       "      <td>ssRNA(+)</td>\n",
       "      <td>TACGAATCGTGATTCGATTCATTATTTCGCCTGAGTAAATCGAGAT...</td>\n",
       "      <td>8832</td>\n",
       "      <td>40.99</td>\n",
       "      <td>0</td>\n",
       "      <td>29.68</td>\n",
       "      <td>29.34</td>\n",
       "      <td>24.55</td>\n",
       "    </tr>\n",
       "    <tr>\n",
       "      <th>KY465672.1</th>\n",
       "      <td>Sacbrood virus strain WA1 polyprotein gene, co...</td>\n",
       "      <td>ssRNA(+)</td>\n",
       "      <td>TACGAATCGTGATTCGATTCATTGTTTCGCCTGAGTAAATCGAGAT...</td>\n",
       "      <td>8832</td>\n",
       "      <td>41.01</td>\n",
       "      <td>0</td>\n",
       "      <td>29.54</td>\n",
       "      <td>29.45</td>\n",
       "      <td>24.65</td>\n",
       "    </tr>\n",
       "    <tr>\n",
       "      <th>KY465673.1</th>\n",
       "      <td>Sacbrood virus strain VN3 polyprotein gene, co...</td>\n",
       "      <td>ssRNA(+)</td>\n",
       "      <td>TACGAATCGTGATTCGATTCATTGTTTCGCCTGAGTAAATCGAGAT...</td>\n",
       "      <td>8820</td>\n",
       "      <td>40.92</td>\n",
       "      <td>0</td>\n",
       "      <td>29.75</td>\n",
       "      <td>29.33</td>\n",
       "      <td>24.55</td>\n",
       "    </tr>\n",
       "    <tr>\n",
       "      <th>KY465674.1</th>\n",
       "      <td>Sacbrood virus strain VN2 polyprotein gene, co...</td>\n",
       "      <td>ssRNA(+)</td>\n",
       "      <td>TACGAATCGTGATTCGATTCATTGTTTCGCCTGAGTAAATCGAGAT...</td>\n",
       "      <td>8832</td>\n",
       "      <td>40.87</td>\n",
       "      <td>0</td>\n",
       "      <td>29.61</td>\n",
       "      <td>29.52</td>\n",
       "      <td>24.64</td>\n",
       "    </tr>\n",
       "    <tr>\n",
       "      <th>KY465675.1</th>\n",
       "      <td>Sacbrood virus strain VN1 polyprotein gene, co...</td>\n",
       "      <td>ssRNA(+)</td>\n",
       "      <td>TACGAATCGTGATTCGATTCATTGTTTCGCCTGAGTAAATCGAGAT...</td>\n",
       "      <td>8835</td>\n",
       "      <td>41.02</td>\n",
       "      <td>0</td>\n",
       "      <td>29.58</td>\n",
       "      <td>29.41</td>\n",
       "      <td>24.67</td>\n",
       "    </tr>\n",
       "  </tbody>\n",
       "</table>\n",
       "</div>"
      ],
      "text/plain": [
       "                                                          Des       Gen  \\\n",
       "Id                                                                        \n",
       "KY465671.1  Sacbrood virus strain WA2 polyprotein gene, co...  ssRNA(+)   \n",
       "KY465672.1  Sacbrood virus strain WA1 polyprotein gene, co...  ssRNA(+)   \n",
       "KY465673.1  Sacbrood virus strain VN3 polyprotein gene, co...  ssRNA(+)   \n",
       "KY465674.1  Sacbrood virus strain VN2 polyprotein gene, co...  ssRNA(+)   \n",
       "KY465675.1  Sacbrood virus strain VN1 polyprotein gene, co...  ssRNA(+)   \n",
       "\n",
       "                                                          Seq   Len     GC  \\\n",
       "Id                                                                           \n",
       "KY465671.1  TACGAATCGTGATTCGATTCATTATTTCGCCTGAGTAAATCGAGAT...  8832  40.99   \n",
       "KY465672.1  TACGAATCGTGATTCGATTCATTGTTTCGCCTGAGTAAATCGAGAT...  8832  41.01   \n",
       "KY465673.1  TACGAATCGTGATTCGATTCATTGTTTCGCCTGAGTAAATCGAGAT...  8820  40.92   \n",
       "KY465674.1  TACGAATCGTGATTCGATTCATTGTTTCGCCTGAGTAAATCGAGAT...  8832  40.87   \n",
       "KY465675.1  TACGAATCGTGATTCGATTCATTGTTTCGCCTGAGTAAATCGAGAT...  8835  41.02   \n",
       "\n",
       "            %N     %A     %T     %G  \n",
       "Id                                   \n",
       "KY465671.1   0  29.68  29.34  24.55  \n",
       "KY465672.1   0  29.54  29.45  24.65  \n",
       "KY465673.1   0  29.75  29.33  24.55  \n",
       "KY465674.1   0  29.61  29.52  24.64  \n",
       "KY465675.1   0  29.58  29.41  24.67  "
      ]
     },
     "execution_count": 31,
     "metadata": {},
     "output_type": "execute_result"
    }
   ],
   "source": [
    "df.head() "
   ]
  },
  {
   "cell_type": "code",
   "execution_count": 32,
   "metadata": {},
   "outputs": [],
   "source": [
    "# create a column N \n",
    "df['%C'] = df['Seq'].apply(lambda seq: round((seq.count('C') /len(seq)) * 100,2))"
   ]
  },
  {
   "cell_type": "code",
   "execution_count": 33,
   "metadata": {},
   "outputs": [
    {
     "data": {
      "text/html": [
       "<div>\n",
       "<style scoped>\n",
       "    .dataframe tbody tr th:only-of-type {\n",
       "        vertical-align: middle;\n",
       "    }\n",
       "\n",
       "    .dataframe tbody tr th {\n",
       "        vertical-align: top;\n",
       "    }\n",
       "\n",
       "    .dataframe thead th {\n",
       "        text-align: right;\n",
       "    }\n",
       "</style>\n",
       "<table border=\"1\" class=\"dataframe\">\n",
       "  <thead>\n",
       "    <tr style=\"text-align: right;\">\n",
       "      <th></th>\n",
       "      <th>Des</th>\n",
       "      <th>Gen</th>\n",
       "      <th>Seq</th>\n",
       "      <th>Len</th>\n",
       "      <th>GC</th>\n",
       "      <th>%N</th>\n",
       "      <th>%A</th>\n",
       "      <th>%T</th>\n",
       "      <th>%G</th>\n",
       "      <th>%C</th>\n",
       "    </tr>\n",
       "    <tr>\n",
       "      <th>Id</th>\n",
       "      <th></th>\n",
       "      <th></th>\n",
       "      <th></th>\n",
       "      <th></th>\n",
       "      <th></th>\n",
       "      <th></th>\n",
       "      <th></th>\n",
       "      <th></th>\n",
       "      <th></th>\n",
       "      <th></th>\n",
       "    </tr>\n",
       "  </thead>\n",
       "  <tbody>\n",
       "    <tr>\n",
       "      <th>KY465671.1</th>\n",
       "      <td>Sacbrood virus strain WA2 polyprotein gene, co...</td>\n",
       "      <td>ssRNA(+)</td>\n",
       "      <td>TACGAATCGTGATTCGATTCATTATTTCGCCTGAGTAAATCGAGAT...</td>\n",
       "      <td>8832</td>\n",
       "      <td>40.99</td>\n",
       "      <td>0</td>\n",
       "      <td>29.68</td>\n",
       "      <td>29.34</td>\n",
       "      <td>24.55</td>\n",
       "      <td>16.44</td>\n",
       "    </tr>\n",
       "    <tr>\n",
       "      <th>KY465672.1</th>\n",
       "      <td>Sacbrood virus strain WA1 polyprotein gene, co...</td>\n",
       "      <td>ssRNA(+)</td>\n",
       "      <td>TACGAATCGTGATTCGATTCATTGTTTCGCCTGAGTAAATCGAGAT...</td>\n",
       "      <td>8832</td>\n",
       "      <td>41.01</td>\n",
       "      <td>0</td>\n",
       "      <td>29.54</td>\n",
       "      <td>29.45</td>\n",
       "      <td>24.65</td>\n",
       "      <td>16.36</td>\n",
       "    </tr>\n",
       "    <tr>\n",
       "      <th>KY465673.1</th>\n",
       "      <td>Sacbrood virus strain VN3 polyprotein gene, co...</td>\n",
       "      <td>ssRNA(+)</td>\n",
       "      <td>TACGAATCGTGATTCGATTCATTGTTTCGCCTGAGTAAATCGAGAT...</td>\n",
       "      <td>8820</td>\n",
       "      <td>40.92</td>\n",
       "      <td>0</td>\n",
       "      <td>29.75</td>\n",
       "      <td>29.33</td>\n",
       "      <td>24.55</td>\n",
       "      <td>16.37</td>\n",
       "    </tr>\n",
       "    <tr>\n",
       "      <th>KY465674.1</th>\n",
       "      <td>Sacbrood virus strain VN2 polyprotein gene, co...</td>\n",
       "      <td>ssRNA(+)</td>\n",
       "      <td>TACGAATCGTGATTCGATTCATTGTTTCGCCTGAGTAAATCGAGAT...</td>\n",
       "      <td>8832</td>\n",
       "      <td>40.87</td>\n",
       "      <td>0</td>\n",
       "      <td>29.61</td>\n",
       "      <td>29.52</td>\n",
       "      <td>24.64</td>\n",
       "      <td>16.24</td>\n",
       "    </tr>\n",
       "    <tr>\n",
       "      <th>KY465675.1</th>\n",
       "      <td>Sacbrood virus strain VN1 polyprotein gene, co...</td>\n",
       "      <td>ssRNA(+)</td>\n",
       "      <td>TACGAATCGTGATTCGATTCATTGTTTCGCCTGAGTAAATCGAGAT...</td>\n",
       "      <td>8835</td>\n",
       "      <td>41.02</td>\n",
       "      <td>0</td>\n",
       "      <td>29.58</td>\n",
       "      <td>29.41</td>\n",
       "      <td>24.67</td>\n",
       "      <td>16.34</td>\n",
       "    </tr>\n",
       "  </tbody>\n",
       "</table>\n",
       "</div>"
      ],
      "text/plain": [
       "                                                          Des       Gen  \\\n",
       "Id                                                                        \n",
       "KY465671.1  Sacbrood virus strain WA2 polyprotein gene, co...  ssRNA(+)   \n",
       "KY465672.1  Sacbrood virus strain WA1 polyprotein gene, co...  ssRNA(+)   \n",
       "KY465673.1  Sacbrood virus strain VN3 polyprotein gene, co...  ssRNA(+)   \n",
       "KY465674.1  Sacbrood virus strain VN2 polyprotein gene, co...  ssRNA(+)   \n",
       "KY465675.1  Sacbrood virus strain VN1 polyprotein gene, co...  ssRNA(+)   \n",
       "\n",
       "                                                          Seq   Len     GC  \\\n",
       "Id                                                                           \n",
       "KY465671.1  TACGAATCGTGATTCGATTCATTATTTCGCCTGAGTAAATCGAGAT...  8832  40.99   \n",
       "KY465672.1  TACGAATCGTGATTCGATTCATTGTTTCGCCTGAGTAAATCGAGAT...  8832  41.01   \n",
       "KY465673.1  TACGAATCGTGATTCGATTCATTGTTTCGCCTGAGTAAATCGAGAT...  8820  40.92   \n",
       "KY465674.1  TACGAATCGTGATTCGATTCATTGTTTCGCCTGAGTAAATCGAGAT...  8832  40.87   \n",
       "KY465675.1  TACGAATCGTGATTCGATTCATTGTTTCGCCTGAGTAAATCGAGAT...  8835  41.02   \n",
       "\n",
       "            %N     %A     %T     %G     %C  \n",
       "Id                                          \n",
       "KY465671.1   0  29.68  29.34  24.55  16.44  \n",
       "KY465672.1   0  29.54  29.45  24.65  16.36  \n",
       "KY465673.1   0  29.75  29.33  24.55  16.37  \n",
       "KY465674.1   0  29.61  29.52  24.64  16.24  \n",
       "KY465675.1   0  29.58  29.41  24.67  16.34  "
      ]
     },
     "execution_count": 33,
     "metadata": {},
     "output_type": "execute_result"
    }
   ],
   "source": [
    "df.head() "
   ]
  },
  {
   "cell_type": "code",
   "execution_count": null,
   "metadata": {},
   "outputs": [],
   "source": [
    "plt.plot(df['%A'], 'bo')\n",
    "plt.plot(df['%T'], 'rs', linestyle='--')\n",
    "plt.plot(df['%G'], 'bs')\n",
    "plt.plot(df['%C'], 'bo')\n",
    "plt.xlabel('Base-pair Position')\n",
    "plt.ylabel('% of Bases')\n",
    "plt.legend(['%A', '%T', '%G', '%C'])\n",
    "plt.tight_layout()\n",
    "plt.show() "
   ]
  },
  {
   "cell_type": "markdown",
   "metadata": {},
   "source": [
    "## Question #1: Whta is the maximum and minimum length of sequence?"
   ]
  },
  {
   "cell_type": "code",
   "execution_count": 34,
   "metadata": {},
   "outputs": [
    {
     "data": {
      "text/plain": [
       "count    4.309000e+04\n",
       "mean     6.646773e+03\n",
       "std      2.237476e+04\n",
       "min      7.300000e+01\n",
       "25%      9.202500e+02\n",
       "50%      2.586000e+03\n",
       "75%      8.479250e+03\n",
       "max      1.208707e+06\n",
       "Name: Len, dtype: float64"
      ]
     },
     "execution_count": 34,
     "metadata": {},
     "output_type": "execute_result"
    }
   ],
   "source": [
    "# length Summary \n",
    "df.Len.describe()"
   ]
  },
  {
   "cell_type": "code",
   "execution_count": 35,
   "metadata": {},
   "outputs": [
    {
     "data": {
      "text/plain": [
       "1208707"
      ]
     },
     "execution_count": 35,
     "metadata": {},
     "output_type": "execute_result"
    }
   ],
   "source": [
    "# max length \n",
    "df.Len.max() "
   ]
  },
  {
   "cell_type": "code",
   "execution_count": 36,
   "metadata": {},
   "outputs": [
    {
     "data": {
      "text/plain": [
       "73"
      ]
     },
     "execution_count": 36,
     "metadata": {},
     "output_type": "execute_result"
    }
   ],
   "source": [
    "# min length \n",
    "df.Len.min() "
   ]
  },
  {
   "cell_type": "code",
   "execution_count": 37,
   "metadata": {},
   "outputs": [
    {
     "data": {
      "text/plain": [
       "6646.772569041541"
      ]
     },
     "execution_count": 37,
     "metadata": {},
     "output_type": "execute_result"
    }
   ],
   "source": [
    "# avg length \n",
    "df.Len.mean() "
   ]
  },
  {
   "cell_type": "markdown",
   "metadata": {},
   "source": [
    "## Question #2: Returns the maximum and minimum length with their index."
   ]
  },
  {
   "cell_type": "code",
   "execution_count": 38,
   "metadata": {},
   "outputs": [
    {
     "data": {
      "text/plain": [
       "Des      Powai lake megavirus isolate 1, complete genome\n",
       "Gen                                                dsDNA\n",
       "Seq    CCTTTTTTGGATAATTTTTGATATTTATTTAAAGGACTATTTAGAA...\n",
       "Len                                              1208707\n",
       "GC                                                  25.3\n",
       "%N                                                     0\n",
       "%A                                                  37.3\n",
       "%T                                                  37.4\n",
       "%G                                                 12.85\n",
       "%C                                                 12.46\n",
       "Name: KU877344.1, dtype: object"
      ]
     },
     "execution_count": 38,
     "metadata": {},
     "output_type": "execute_result"
    }
   ],
   "source": [
    "# maximum length with index \n",
    "df.loc[df.Len.idxmax()]"
   ]
  },
  {
   "cell_type": "code",
   "execution_count": 39,
   "metadata": {},
   "outputs": [
    {
     "data": {
      "text/plain": [
       "Des               Rotavirus GB-501 VP7 gene, partial cds\n",
       "Gen                                                dsRNA\n",
       "Seq    AGTTAGTGATTTTAATATATAGTTCAATAAAACTATTGATATCAGA...\n",
       "Len                                                   73\n",
       "GC                                                 23.29\n",
       "%N                                                     0\n",
       "%A                                                 39.73\n",
       "%T                                                 36.99\n",
       "%G                                                 16.44\n",
       "%C                                                  6.85\n",
       "Name: AF519206.1, dtype: object"
      ]
     },
     "execution_count": 39,
     "metadata": {},
     "output_type": "execute_result"
    }
   ],
   "source": [
    "# minimum length with index \n",
    "df.loc[df.Len.idxmin()] "
   ]
  },
  {
   "cell_type": "code",
   "execution_count": 40,
   "metadata": {},
   "outputs": [
    {
     "data": {
      "text/plain": [
       "<seaborn.axisgrid.FacetGrid at 0x7fd2a64572d0>"
      ]
     },
     "execution_count": 40,
     "metadata": {},
     "output_type": "execute_result"
    },
    {
     "data": {
      "image/png": "[encoded data removed]",
      "text/plain": [
       "<Figure size 1080x360 with 1 Axes>"
      ]
     },
     "metadata": {},
     "output_type": "display_data"
    }
   ],
   "source": [
    "sns.catplot(x='Gen', y='Len', data=df, kind='bar', aspect=3, palette='Set2')"
   ]
  },
  {
   "cell_type": "markdown",
   "metadata": {},
   "source": [
    "## Question #3: What is the maximum and minimum GC Ratio of sequence?"
   ]
  },
  {
   "cell_type": "code",
   "execution_count": 41,
   "metadata": {},
   "outputs": [
    {
     "data": {
      "text/plain": [
       "count    43090.000000\n",
       "mean        40.563391\n",
       "std          7.713985\n",
       "min         18.630000\n",
       "25%         33.260000\n",
       "50%         40.775000\n",
       "75%         46.550000\n",
       "max         75.590000\n",
       "Name: GC, dtype: float64"
      ]
     },
     "execution_count": 41,
     "metadata": {},
     "output_type": "execute_result"
    }
   ],
   "source": [
    "# GC Summary \n",
    "df.GC.describe()"
   ]
  },
  {
   "cell_type": "markdown",
   "metadata": {},
   "source": [
    "## Question #4: Returns the maximum and minimum GC Ratio with their index."
   ]
  },
  {
   "cell_type": "code",
   "execution_count": 42,
   "metadata": {},
   "outputs": [
    {
     "data": {
      "text/plain": [
       "Des    Macacine alphaherpesvirus 1 isolate 8100812, c...\n",
       "Gen                                                dsDNA\n",
       "Seq    GACCCGGCCCTCCCCCGGCGGCGCGCGCGCGAAAATAAACGCGGAA...\n",
       "Len                                               157447\n",
       "GC                                                 75.59\n",
       "%N                                                     0\n",
       "%A                                                 12.24\n",
       "%T                                                 12.17\n",
       "%G                                                 38.13\n",
       "%C                                                 37.46\n",
       "Name: KY628968.1, dtype: object"
      ]
     },
     "execution_count": 42,
     "metadata": {},
     "output_type": "execute_result"
    }
   ],
   "source": [
    "# returns the maximum GC with index \n",
    "df.loc[df.GC.idxmax()]"
   ]
  },
  {
   "cell_type": "code",
   "execution_count": 43,
   "metadata": {},
   "outputs": [
    {
     "data": {
      "text/plain": [
       "Des    UNVERIFIED: Rotavirus A strain RVA/Human-wt/US...\n",
       "Gen                                                dsRNA\n",
       "Seq    ATGGCGTACAGGAAACGTGGAGCGCGCCGTGAGGCAAACTTAAATA...\n",
       "Len                                                 2652\n",
       "GC                                                 18.63\n",
       "%N                                                  1149\n",
       "%A                                                 22.25\n",
       "%T                                                  15.8\n",
       "%G                                                  10.6\n",
       "%C                                                  8.03\n",
       "Name: MF184864.1, dtype: object"
      ]
     },
     "execution_count": 43,
     "metadata": {},
     "output_type": "execute_result"
    }
   ],
   "source": [
    "# returns the minimum GC with index \n",
    "df.loc[df.GC.idxmin()]"
   ]
  },
  {
   "cell_type": "markdown",
   "metadata": {},
   "source": [
    "## Question #4: GC distributions"
   ]
  },
  {
   "cell_type": "code",
   "execution_count": 44,
   "metadata": {},
   "outputs": [
    {
     "data": {
      "image/png": "[encoded data removed]",
      "text/plain": [
       "<Figure size 720x576 with 1 Axes>"
      ]
     },
     "metadata": {},
     "output_type": "display_data"
    }
   ],
   "source": [
    "# GC distributions \n",
    "sns.distplot(df['GC']); "
   ]
  },
  {
   "cell_type": "code",
   "execution_count": 45,
   "metadata": {},
   "outputs": [
    {
     "data": {
      "image/png": "[encoded data removed]",
      "text/plain": [
       "<Figure size 720x576 with 1 Axes>"
      ]
     },
     "metadata": {},
     "output_type": "display_data"
    }
   ],
   "source": [
    "# GC distributions \n",
    "sns.distplot(df['GC'], kde=False); "
   ]
  },
  {
   "cell_type": "markdown",
   "metadata": {},
   "source": [
    "## Question #5: No. of Gen and bar plot"
   ]
  },
  {
   "cell_type": "code",
   "execution_count": 46,
   "metadata": {},
   "outputs": [
    {
     "data": {
      "text/plain": [
       "dsRNA         21167\n",
       "ssRNA(+)       8712\n",
       "ssDNA(+/-)     2950\n",
       "ssRNA(-)       2604\n",
       "ssRNA-RT       2446\n",
       "dsDNA-RT       1941\n",
       "dsDNA          1347\n",
       "ssRNA           717\n",
       "ssDNA(+)        530\n",
       "ssDNA           268\n",
       "ssRNA(+/-)      214\n",
       "ssDNA(-)        194\n",
       "Name: Gen, dtype: int64"
      ]
     },
     "execution_count": 46,
     "metadata": {},
     "output_type": "execute_result"
    }
   ],
   "source": [
    "# Gen counts \n",
    "df['Gen'].value_counts() "
   ]
  },
  {
   "cell_type": "code",
   "execution_count": 47,
   "metadata": {},
   "outputs": [
    {
     "data": {
      "image/png": "[encoded data removed]",
      "text/plain": [
       "<Figure size 720x576 with 1 Axes>"
      ]
     },
     "metadata": {},
     "output_type": "display_data"
    }
   ],
   "source": [
    "# bar chart \n",
    "df['Gen'].value_counts().plot(kind='bar');"
   ]
  }
 ],
 "metadata": {
  "kernelspec": {
   "display_name": "Python 3",
   "language": "python",
   "name": "python3"
  },
  "language_info": {
   "codemirror_mode": {
    "name": "ipython",
    "version": 3
   },
   "file_extension": ".py",
   "mimetype": "text/x-python",
   "name": "python",
   "nbconvert_exporter": "python",
   "pygments_lexer": "ipython3",
   "version": "3.7.4"
  },
  "latex_envs": {
   "LaTeX_envs_menu_present": true,
   "autoclose": false,
   "autocomplete": true,
   "bibliofile": "biblio.bib",
   "cite_by": "apalike",
   "current_citInitial": 1,
   "eqLabelWithNumbers": true,
   "eqNumInitial": 1,
   "hotkeys": {
    "equation": "Ctrl-E",
    "itemize": "Ctrl-I"
   },
   "labels_anchors": false,
   "latex_user_defs": false,
   "report_style_numbering": false,
   "user_envs_cfg": false
  }
 },
 "nbformat": 4,
 "nbformat_minor": 4
}
