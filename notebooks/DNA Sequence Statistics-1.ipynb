{
 "cells": [
  {
   "cell_type": "markdown",
   "metadata": {},
   "source": [
    "# DNA Sequence Statistics-1"
   ]
  },
  {
   "cell_type": "markdown",
   "metadata": {},
   "source": [
    "## Function for Reading FASTA/FASQ File"
   ]
  },
  {
   "cell_type": "code",
   "execution_count": 1,
   "metadata": {},
   "outputs": [],
   "source": [
    "import screed # A Python library for reading FASTA and FASQ file format.\n",
    "def readFastaFile(inputfile):\n",
    "    \"\"\"\n",
    "    Reads and returns file as FASTA format with special characters removed.\n",
    "    \"\"\"\n",
    "    with screed.open(inputfile) as seqfile:\n",
    "        for read in seqfile:\n",
    "            seq = read.sequence\n",
    "    return seq"
   ]
  },
  {
   "cell_type": "markdown",
   "metadata": {},
   "source": [
    "## Read FASTA/FASQ File"
   ]
  },
  {
   "cell_type": "code",
   "execution_count": 2,
   "metadata": {},
   "outputs": [],
   "source": [
    "den1 = readFastaFile(\"../dengue/den1.fasta\")\n",
    "den2 = readFastaFile(\"../dengue/den2.fasta\")\n",
    "den3 = readFastaFile(\"../dengue/den3.fasta\")\n",
    "den4 = readFastaFile(\"../dengue/den4.fasta\")"
   ]
  },
  {
   "cell_type": "markdown",
   "metadata": {},
   "source": [
    "## Statistical Aanalysis"
   ]
  },
  {
   "cell_type": "markdown",
   "metadata": {},
   "source": [
    "### Length of a DNA sequence"
   ]
  },
  {
   "cell_type": "code",
   "execution_count": 63,
   "metadata": {},
   "outputs": [
    {
     "data": {
      "text/plain": [
       "10735"
      ]
     },
     "execution_count": 63,
     "metadata": {},
     "output_type": "execute_result"
    }
   ],
   "source": [
    "# length of DEN1 \n",
    "len(den1)"
   ]
  },
  {
   "cell_type": "code",
   "execution_count": 64,
   "metadata": {},
   "outputs": [
    {
     "data": {
      "text/plain": [
       "10723"
      ]
     },
     "execution_count": 64,
     "metadata": {},
     "output_type": "execute_result"
    }
   ],
   "source": [
    "# length of DEN2\n",
    "len(den2)"
   ]
  },
  {
   "cell_type": "code",
   "execution_count": 65,
   "metadata": {},
   "outputs": [
    {
     "data": {
      "text/plain": [
       "10707"
      ]
     },
     "execution_count": 65,
     "metadata": {},
     "output_type": "execute_result"
    }
   ],
   "source": [
    "# length of DEN3\n",
    "len(den3)"
   ]
  },
  {
   "cell_type": "code",
   "execution_count": 66,
   "metadata": {},
   "outputs": [
    {
     "data": {
      "text/plain": [
       "10649"
      ]
     },
     "execution_count": 66,
     "metadata": {},
     "output_type": "execute_result"
    }
   ],
   "source": [
    "len(den4)"
   ]
  },
  {
   "cell_type": "markdown",
   "metadata": {},
   "source": [
    "### Base composition of a DNA sequence¶\n"
   ]
  },
  {
   "cell_type": "markdown",
   "metadata": {},
   "source": [
    "#### By creating a function"
   ]
  },
  {
   "cell_type": "code",
   "execution_count": 5,
   "metadata": {},
   "outputs": [],
   "source": [
    "def count_base(seq): \n",
    "    base_counts = {} \n",
    "    for base in seq: \n",
    "        if base in base_counts: \n",
    "            base_counts[base] += 1 \n",
    "        else: \n",
    "            base_counts[base] = 1 \n",
    "    return base_counts"
   ]
  },
  {
   "cell_type": "code",
   "execution_count": 9,
   "metadata": {},
   "outputs": [
    {
     "name": "stdout",
     "output_type": "stream",
     "text": [
      "{'A': 3426, 'G': 2770, 'T': 2299, 'C': 2240}\n"
     ]
    }
   ],
   "source": [
    "# Let's call the function count_base\n",
    "counts = count_base(den1)\n",
    "print(counts)"
   ]
  },
  {
   "cell_type": "markdown",
   "metadata": {},
   "source": [
    "#### By collections modules"
   ]
  },
  {
   "cell_type": "code",
   "execution_count": 11,
   "metadata": {},
   "outputs": [],
   "source": [
    "from collections import Counter\n",
    "def count_base(seq): \n",
    "    base_counts = Counter(seq)\n",
    "    return base_counts"
   ]
  },
  {
   "cell_type": "code",
   "execution_count": 12,
   "metadata": {},
   "outputs": [
    {
     "name": "stdout",
     "output_type": "stream",
     "text": [
      "Counter({'A': 3426, 'G': 2770, 'T': 2299, 'C': 2240})\n"
     ]
    }
   ],
   "source": [
    "bases = count_base(den1)\n",
    "print(bases)"
   ]
  },
  {
   "cell_type": "markdown",
   "metadata": {},
   "source": [
    "### Frequency with Counter"
   ]
  },
  {
   "cell_type": "code",
   "execution_count": 72,
   "metadata": {},
   "outputs": [
    {
     "name": "stdout",
     "output_type": "stream",
     "text": [
      "Counter({'A': 3426, 'G': 2770, 'T': 2299, 'C': 2240})\n"
     ]
    }
   ],
   "source": [
    "from collections import Counter\n",
    "# Base composition of DEN1\n",
    "freq1 = Counter(den1)\n",
    "print(freq1)"
   ]
  },
  {
   "cell_type": "code",
   "execution_count": 73,
   "metadata": {},
   "outputs": [
    {
     "name": "stdout",
     "output_type": "stream",
     "text": [
      "Counter({'A': 3553, 'G': 2713, 'T': 2257, 'C': 2200})\n"
     ]
    }
   ],
   "source": [
    "# Base composition of DEN2\n",
    "freq2 = Counter(den2)\n",
    "print(freq2)"
   ]
  },
  {
   "cell_type": "code",
   "execution_count": 74,
   "metadata": {},
   "outputs": [
    {
     "name": "stdout",
     "output_type": "stream",
     "text": [
      "Counter({'A': 3425, 'G': 2783, 'T': 2281, 'C': 2218})\n"
     ]
    }
   ],
   "source": [
    "# Base composition of DEN3\n",
    "freq3 = Counter(den3)\n",
    "print(freq3)"
   ]
  },
  {
   "cell_type": "code",
   "execution_count": 75,
   "metadata": {},
   "outputs": [
    {
     "name": "stdout",
     "output_type": "stream",
     "text": [
      "Counter({'A': 3553, 'G': 2713, 'T': 2257, 'C': 2200})\n"
     ]
    }
   ],
   "source": [
    "# Base composition of DEN4\n",
    "freq4 = Counter(den4)\n",
    "print(freq2)"
   ]
  },
  {
   "cell_type": "markdown",
   "metadata": {},
   "source": [
    "### GC Content of DNA"
   ]
  },
  {
   "cell_type": "code",
   "execution_count": 78,
   "metadata": {},
   "outputs": [],
   "source": [
    "import screed # A Python library for reading FASTA and FASQ file format.\n",
    "def readFastaFile(inputfile):\n",
    "    \"\"\"\n",
    "    Reads and returns file as FASTA format with special characters removed.\n",
    "    \"\"\"\n",
    "    with screed.open(inputfile) as seqfile:\n",
    "        for read in seqfile:\n",
    "            seq = read.sequence\n",
    "    return seq\n",
    "\n",
    "def calculate_gc_content(seq): \n",
    "    \"\"\"\n",
    "    Take DNA sequence as input and calculate the GC content.\n",
    "    \"\"\"\n",
    "    no_of_g = seq.count(\"G\")\n",
    "    no_of_c = seq.count(\"C\")\n",
    "    total = no_of_g + no_of_c \n",
    "    gc = total/len(seq) * 100\n",
    "    \n",
    "    return gc "
   ]
  },
  {
   "cell_type": "code",
   "execution_count": 80,
   "metadata": {},
   "outputs": [
    {
     "name": "stdout",
     "output_type": "stream",
     "text": [
      "46.66977177456917\n"
     ]
    }
   ],
   "source": [
    "# Calculate GC Content of DEN1\n",
    "den1 = readFastaFile(\"../dengue/den1.fasta\")\n",
    "result1 = calculate_gc_content(den1)\n",
    "print(result1)"
   ]
  },
  {
   "cell_type": "code",
   "execution_count": 83,
   "metadata": {},
   "outputs": [
    {
     "name": "stdout",
     "output_type": "stream",
     "text": [
      "45.81740184649818\n"
     ]
    }
   ],
   "source": [
    "# Calculate GC Content of DEN2\n",
    "den2 = readFastaFile(\"../dengue/den2.fasta\")\n",
    "result2 = calculate_gc_content(den2)\n",
    "print(result2)"
   ]
  },
  {
   "cell_type": "code",
   "execution_count": 84,
   "metadata": {},
   "outputs": [
    {
     "name": "stdout",
     "output_type": "stream",
     "text": [
      "46.707761277668816\n"
     ]
    }
   ],
   "source": [
    "# Calculate GC Content of DEN3\n",
    "den3 = readFastaFile(\"../dengue/den3.fasta\")\n",
    "result3 = calculate_gc_content(den3)\n",
    "print(result3)"
   ]
  },
  {
   "cell_type": "code",
   "execution_count": 85,
   "metadata": {},
   "outputs": [
    {
     "name": "stdout",
     "output_type": "stream",
     "text": [
      "47.1217954737534\n"
     ]
    }
   ],
   "source": [
    "# Calculate GC Content of DEN4\n",
    "den4 = readFastaFile(\"../dengue/den4.fasta\")\n",
    "result4 = calculate_gc_content(den4)\n",
    "print(result4)"
   ]
  },
  {
   "cell_type": "markdown",
   "metadata": {},
   "source": [
    "### AT Content of DNA"
   ]
  },
  {
   "cell_type": "code",
   "execution_count": 86,
   "metadata": {},
   "outputs": [],
   "source": [
    "import screed # A Python library for reading FASTA and FASQ file format.\n",
    "def readFastaFile(inputfile):\n",
    "    \"\"\"\n",
    "    Reads and returns file as FASTA format with special characters removed.\n",
    "    \"\"\"\n",
    "    with screed.open(inputfile) as seqfile:\n",
    "        for read in seqfile:\n",
    "            seq = read.sequence\n",
    "    return seq\n",
    "\n",
    "def calculate_at_content(seq): \n",
    "    \"\"\"\n",
    "    Take DNA sequence as input and calculate the AT content.\n",
    "    \"\"\"\n",
    "    no_of_a = seq.count(\"A\")\n",
    "    no_of_t = seq.count(\"T\")\n",
    "    total = no_of_a + no_of_t\n",
    "    at = total/len(seq) * 100\n",
    "    \n",
    "    return at "
   ]
  },
  {
   "cell_type": "code",
   "execution_count": 87,
   "metadata": {},
   "outputs": [
    {
     "name": "stdout",
     "output_type": "stream",
     "text": [
      "53.33022822543083\n"
     ]
    }
   ],
   "source": [
    "# Calculate AT Content of DEN1\n",
    "den1 = readFastaFile(\"../dengue/den1.fasta\")\n",
    "result1 = calculate_at_content(den1)\n",
    "print(result1)"
   ]
  },
  {
   "cell_type": "code",
   "execution_count": 88,
   "metadata": {},
   "outputs": [
    {
     "name": "stdout",
     "output_type": "stream",
     "text": [
      "54.182598153501814\n"
     ]
    }
   ],
   "source": [
    "# Calculate AT Content of DEN2\n",
    "den2 = readFastaFile(\"../dengue/den2.fasta\")\n",
    "result2 = calculate_at_content(den2)\n",
    "print(result2)"
   ]
  },
  {
   "cell_type": "code",
   "execution_count": 89,
   "metadata": {},
   "outputs": [
    {
     "name": "stdout",
     "output_type": "stream",
     "text": [
      "53.292238722331184\n"
     ]
    }
   ],
   "source": [
    "# Calculate AT Content of DEN3\n",
    "den3 = readFastaFile(\"../dengue/den3.fasta\")\n",
    "result3 = calculate_at_content(den3)\n",
    "print(result3)"
   ]
  },
  {
   "cell_type": "code",
   "execution_count": 91,
   "metadata": {},
   "outputs": [
    {
     "name": "stdout",
     "output_type": "stream",
     "text": [
      "52.8782045262466\n"
     ]
    }
   ],
   "source": [
    "# Calculate AT Content of DEN4\n",
    "den4 = readFastaFile(\"../dengue/den4.fasta\")\n",
    "result4 = calculate_at_content(den4)\n",
    "print(result4)"
   ]
  },
  {
   "cell_type": "markdown",
   "metadata": {},
   "source": [
    "### A sliding window analysis of GC content"
   ]
  },
  {
   "cell_type": "code",
   "execution_count": 2,
   "metadata": {},
   "outputs": [],
   "source": [
    "import screed # A Python library for reading FASTA and FASQ file format.\n",
    "def readFastaFile(inputfile):\n",
    "    \"\"\"\n",
    "    Reads and returns file as FASTA format with special characters removed.\n",
    "    \"\"\"\n",
    "    with screed.open(inputfile) as seqfile:\n",
    "        for read in seqfile:\n",
    "            seq = read.sequence\n",
    "    return seq\n",
    "\n",
    "def calculate_gc_content(seq): \n",
    "    \"\"\"\n",
    "    Take DNA sequence as input and calculate the GC content.\n",
    "    \"\"\"\n",
    "    no_of_g = seq.count(\"G\")\n",
    "    no_of_c = seq.count(\"C\")\n",
    "    total = no_of_g + no_of_c \n",
    "    gc = total/len(seq) * 100\n",
    "    \n",
    "    return gc "
   ]
  },
  {
   "cell_type": "code",
   "execution_count": 56,
   "metadata": {},
   "outputs": [
    {
     "data": {
      "text/plain": [
       "46.550000000000004"
      ]
     },
     "execution_count": 56,
     "metadata": {},
     "output_type": "execute_result"
    }
   ],
   "source": [
    "# Calculate the GC content of nucleotides 1-2000 of the Dengue genome(DEN-1)\n",
    "seq = readFastaFile(\"../dengue/den1.fasta\")\n",
    "calculate_gc_content(seq[1:2001])"
   ]
  },
  {
   "cell_type": "code",
   "execution_count": 57,
   "metadata": {},
   "outputs": [
    {
     "data": {
      "text/plain": [
       "45.2"
      ]
     },
     "execution_count": 57,
     "metadata": {},
     "output_type": "execute_result"
    }
   ],
   "source": [
    "# Calculate the GC content of nucleotides 2001-4000 of the Dengue genome(DEN-1)\n",
    "seq = readFastaFile(\"../dengue/den1.fasta\")\n",
    "calculate_gc_content(seq[2001:4001])"
   ]
  },
  {
   "cell_type": "code",
   "execution_count": 58,
   "metadata": {},
   "outputs": [
    {
     "data": {
      "text/plain": [
       "47.099999999999994"
      ]
     },
     "execution_count": 58,
     "metadata": {},
     "output_type": "execute_result"
    }
   ],
   "source": [
    "# Calculate the GC content of nucleotides 4001-6000 of the Dengue genome(DEN-1)\n",
    "seq = readFastaFile(\"../dengue/den1.fasta\")\n",
    "calculate_gc_content(seq[4001:6001])"
   ]
  },
  {
   "cell_type": "code",
   "execution_count": 59,
   "metadata": {},
   "outputs": [
    {
     "data": {
      "text/plain": [
       "47.85"
      ]
     },
     "execution_count": 59,
     "metadata": {},
     "output_type": "execute_result"
    }
   ],
   "source": [
    "# Calculate the GC content of nucleotides 6001-8000 of the Dengue genome(DEN-1)\n",
    "seq = readFastaFile(\"../dengue/den1.fasta\")\n",
    "calculate_gc_content(seq[6001:8001])"
   ]
  },
  {
   "cell_type": "code",
   "execution_count": 60,
   "metadata": {},
   "outputs": [
    {
     "data": {
      "text/plain": [
       "45.45"
      ]
     },
     "execution_count": 60,
     "metadata": {},
     "output_type": "execute_result"
    }
   ],
   "source": [
    "# Calculate the GC content of nucleotides 8001-10000 of the Dengue genome(DEN-1)\n",
    "seq = readFastaFile(\"../dengue/den1.fasta\")\n",
    "calculate_gc_content(seq[8001:10001])"
   ]
  },
  {
   "cell_type": "code",
   "execution_count": 61,
   "metadata": {},
   "outputs": [
    {
     "data": {
      "text/plain": [
       "50.0"
      ]
     },
     "execution_count": 61,
     "metadata": {},
     "output_type": "execute_result"
    }
   ],
   "source": [
    "# Calculate the GC content of nucleotides 10001-10735 of the Dengue genome(DEN-1)\n",
    "seq = readFastaFile(\"../dengue/den1.fasta\")\n",
    "calculate_gc_content(seq[10001:10735])"
   ]
  },
  {
   "cell_type": "markdown",
   "metadata": {},
   "source": [
    "## GC content of the non-overlapping sub-sequences of size k "
   ]
  },
  {
   "cell_type": "code",
   "execution_count": 1,
   "metadata": {},
   "outputs": [],
   "source": [
    "def calculate_gc(seq):\n",
    "    \"\"\" \n",
    "    Returns percentage of G and C nucleotides in a DNA sequence.\n",
    "    \"\"\"\n",
    "    gc = 0 \n",
    "    for base in seq:\n",
    "        if base in \"GCgc\":\n",
    "            gc += 1 \n",
    "        else:\n",
    "            gc = 1 \n",
    "    return gc/len(seq) * 100\n",
    "\n",
    "def gc_subseq(seq, k=2000):\n",
    "    \"\"\"\n",
    "    Returns GC content of non − overlapping sub− sequences of size k.\n",
    "    The result is a list.\n",
    "    \"\"\"\n",
    "    res = [] \n",
    "    for i in range(0, len(seq)-k+1, k):\n",
    "        subseq = seq[i:i+k]\n",
    "        gc = calculate_gc(subseq)\n",
    "        res.append(gc)\n",
    "    return gc \n",
    "    "
   ]
  },
  {
   "cell_type": "code",
   "execution_count": 4,
   "metadata": {},
   "outputs": [],
   "source": [
    "seq = readFastaFile(\"../dengue/den1.fasta\")"
   ]
  },
  {
   "cell_type": "code",
   "execution_count": 5,
   "metadata": {},
   "outputs": [
    {
     "data": {
      "text/plain": [
       "0.1"
      ]
     },
     "execution_count": 5,
     "metadata": {},
     "output_type": "execute_result"
    }
   ],
   "source": [
    "gc_subseq(seq, 2000)"
   ]
  },
  {
   "cell_type": "markdown",
   "metadata": {},
   "source": [
    "## K-mer Analysis"
   ]
  },
  {
   "cell_type": "code",
   "execution_count": 7,
   "metadata": {},
   "outputs": [],
   "source": [
    "def build_kmers(sequence, ksize):\n",
    "    kmers = []\n",
    "    n_kmers = len(sequence) - ksize + 1\n",
    "\n",
    "    for i in range(n_kmers):\n",
    "        kmer = sequence[i:i + ksize]\n",
    "        kmers.append(kmer)\n",
    "\n",
    "    return kmers"
   ]
  },
  {
   "cell_type": "code",
   "execution_count": 9,
   "metadata": {},
   "outputs": [],
   "source": [
    "seq = readFastaFile(\"../dengue/den1.fasta\")"
   ]
  },
  {
   "cell_type": "code",
   "execution_count": 20,
   "metadata": {},
   "outputs": [],
   "source": [
    "# Dimer\n",
    "km2 = build_kmers(seq, 2)"
   ]
  },
  {
   "cell_type": "code",
   "execution_count": 21,
   "metadata": {},
   "outputs": [
    {
     "name": "stdout",
     "output_type": "stream",
     "text": [
      "Counter({'AA': 1108, 'GA': 976, 'CA': 901, 'AG': 890, 'TG': 832, 'GG': 787, 'AC': 720, 'AT': 708, 'CT': 555, 'TT': 529, 'CC': 523, 'GT': 507, 'GC': 500, 'TC': 497, 'TA': 440, 'CG': 261})\n"
     ]
    }
   ],
   "source": [
    "# Count dimer\n",
    "from collections import Counter\n",
    "dimer = Counter(km2)\n",
    "print(dimer)"
   ]
  },
  {
   "cell_type": "code",
   "execution_count": 18,
   "metadata": {},
   "outputs": [],
   "source": [
    "# Trimer \n",
    "km3 = build_kmers(seq, 3)"
   ]
  },
  {
   "cell_type": "code",
   "execution_count": 23,
   "metadata": {},
   "outputs": [
    {
     "name": "stdout",
     "output_type": "stream",
     "text": [
      "Counter({'AAA': 388, 'GGA': 354, 'GAA': 346, 'AGA': 334, 'TGG': 321, 'ACA': 294, 'ATG': 292, 'AAG': 280, 'CAA': 273, 'GAG': 249, 'AAC': 237, 'AGG': 237, 'CCA': 236, 'CAG': 227, 'TGA': 218, 'AAT': 203, 'CAT': 203, 'TCA': 202, 'CAC': 198, 'GAC': 197, 'GTG': 192, 'CTG': 186, 'AGC': 184, 'GAT': 184, 'ACC': 176, 'GCA': 169, 'TTG': 162, 'TGT': 160, 'GGG': 160, 'ACT': 156, 'GCT': 144, 'GGT': 141, 'ATA': 141, 'TTT': 139, 'ATT': 138, 'ATC': 137, 'GTT': 136, 'AGT': 135, 'TCT': 134, 'TAG': 133, 'TTC': 133, 'TGC': 133, 'GGC': 132, 'CTA': 131, 'GCC': 129, 'CTC': 121, 'CCT': 121, 'TAT': 118, 'CTT': 116, 'TCC': 112, 'GTC': 106, 'CCC': 106, 'TAA': 101, 'TTA': 95, 'ACG': 94, 'TAC': 88, 'GTA': 73, 'CGT': 71, 'CGA': 70, 'CGG': 69, 'CCG': 60, 'GCG': 58, 'CGC': 51, 'TCG': 49})\n"
     ]
    }
   ],
   "source": [
    "# Count trimer\n",
    "trimer = Counter(km3)\n",
    "print(trimer)"
   ]
  },
  {
   "cell_type": "markdown",
   "metadata": {},
   "source": [
    "## References \n",
    "- https://computationalgenomics.blogs.bristol.ac.uk/case_studies/haemophilus_demo"
   ]
  }
 ],
 "metadata": {
  "kernelspec": {
   "display_name": "Python 3",
   "language": "python",
   "name": "python3"
  },
  "language_info": {
   "codemirror_mode": {
    "name": "ipython",
    "version": 3
   },
   "file_extension": ".py",
   "mimetype": "text/x-python",
   "name": "python",
   "nbconvert_exporter": "python",
   "pygments_lexer": "ipython3",
   "version": "3.7.4"
  },
  "latex_envs": {
   "LaTeX_envs_menu_present": true,
   "autoclose": false,
   "autocomplete": true,
   "bibliofile": "biblio.bib",
   "cite_by": "apalike",
   "current_citInitial": 1,
   "eqLabelWithNumbers": true,
   "eqNumInitial": 1,
   "hotkeys": {
    "equation": "Ctrl-E",
    "itemize": "Ctrl-I"
   },
   "labels_anchors": false,
   "latex_user_defs": false,
   "report_style_numbering": false,
   "user_envs_cfg": false
  },
  "toc": {
   "base_numbering": 1,
   "nav_menu": {},
   "number_sections": true,
   "sideBar": true,
   "skip_h1_title": false,
   "title_cell": "Table of Contents",
   "title_sidebar": "Contents",
   "toc_cell": false,
   "toc_position": {},
   "toc_section_display": true,
   "toc_window_display": false
  }
 },
 "nbformat": 4,
 "nbformat_minor": 2
}
