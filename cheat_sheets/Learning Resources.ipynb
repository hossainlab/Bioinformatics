{
 "cells": [
  {
   "cell_type": "markdown",
   "metadata": {},
   "source": [
    "# Python Resources\n",
    "If you are having trouble with particular concept or simply want to have access to more information, try one of the following resource."
   ]
  },
  {
   "cell_type": "markdown",
   "metadata": {},
   "source": [
    "## DOCUMENTATION\n",
    "Official Python3 documentation is the most authentic resource for learning Python.\n",
    "- [Official Python3 Documentation](https://docs.python.org/3/library/)"
   ]
  },
  {
   "cell_type": "markdown",
   "metadata": {},
   "source": [
    "## TEXTBOOKS\n",
    "- Think Pyton by Allen Downey\n",
    "- Learn Python the Hard Way\n",
    "- Automate the Boring Stuff\n",
    "- পাইথন দিয়ে প্রোগ্রামিং শেখা - তামিম শাহরিয়ার সুবিন \n",
    "- সহজ ভাষায় পাইথন ৩ - মাকসুদুর রহমান মাটিন "
   ]
  },
  {
   "cell_type": "markdown",
   "metadata": {},
   "source": [
    "## TUTORIALS \n",
    "- [Learn Python by Programiz.com](https://www.programiz.com/python-programming)\n",
    "- [Python for Everybody](https://www.py4e.com/)\n"
   ]
  },
  {
   "cell_type": "markdown",
   "metadata": {},
   "source": [
    "## MOOCs \n",
    "- [Introduction to Computer Science and Programming in Python by MIT](https://ocw.mit.edu/courses/electrical-engineering-and-computer-science/6-0001-introduction-to-computer-science-and-programming-in-python-fall-2016/)"
   ]
  },
  {
   "cell_type": "markdown",
   "metadata": {},
   "source": [
    "## BIOLOGY SPECIFIC\n",
    "- [Python for Biologists](https://pythonforbiologists.com/)\n",
    "- [Python for Bioscience](https://www.pythonforbiologists.org/)\n",
    "- [Biopython Official Documentation](https://biopython.org/)"
   ]
  },
  {
   "cell_type": "markdown",
   "metadata": {},
   "source": [
    "## DEBUGING\n",
    "- [Python Tutor](http://pythontutor.com/visualize.html) <br>\n",
    "An excellent way to actually visualize how interpreter actually reads and executes your code."
   ]
  },
  {
   "cell_type": "markdown",
   "metadata": {},
   "source": [
    "## CODING ENVIRONMENT\n",
    "- [Jupyter Notebook](https://www.anaconda.com/distribution/)\n",
    "- [Spyder IDE](https://www.anaconda.com/distribution/)"
   ]
  },
  {
   "cell_type": "markdown",
   "metadata": {},
   "source": [
    "## PYTHON EXAMPLES\n",
    "- [Sanfoundary](https://www.sanfoundry.com/python-problems-solutions/)\n",
    "- [W3resources](https://www.w3resource.com/python-exercises/)\n",
    "- [Practice Python](https://www.practicepython.org/)"
   ]
  },
  {
   "cell_type": "markdown",
   "metadata": {},
   "source": [
    "## PYTHON PROBLEM SOLVING\n",
    "- [CodingBat](https://codingbat.com/python)"
   ]
  },
  {
   "cell_type": "markdown",
   "metadata": {},
   "source": [
    "## BIOINFORMATICS EXAMPLES IN PYTHON\n",
    "- [Bioinformatics Problems](http://hplgit.github.io/bioinf-py/doc/pub/html/index.html)\n",
    "- [Biolological Problem Solving](http://pycam.github.io/)"
   ]
  },
  {
   "cell_type": "markdown",
   "metadata": {},
   "source": [
    "## BIOINFORMATIC PROBLEM SOLVING\n",
    "- [Rosalind](http://rosalind.info/problems/locations/)"
   ]
  },
  {
   "cell_type": "markdown",
   "metadata": {},
   "source": [
    "## OTHER Q&A\n",
    "- [Stack Overflow](https://stackoverflow.com/) <br>\n",
    "A large Q&A forum for programming concepts(not just Python)\n",
    "- [Biostars](https://www.biostars.org/) <br>\n",
    "A large Q&A forum for biological and bioinformatics concepts."
   ]
  }
 ],
 "metadata": {
  "kernelspec": {
   "display_name": "Python 3",
   "language": "python",
   "name": "python3"
  },
  "language_info": {
   "codemirror_mode": {
    "name": "ipython",
    "version": 3
   },
   "file_extension": ".py",
   "mimetype": "text/x-python",
   "name": "python",
   "nbconvert_exporter": "python",
   "pygments_lexer": "ipython3",
   "version": "3.7.4"
  },
  "toc": {
   "base_numbering": 1,
   "nav_menu": {},
   "number_sections": false,
   "sideBar": true,
   "skip_h1_title": true,
   "title_cell": "Table of Contents",
   "title_sidebar": "Contents",
   "toc_cell": false,
   "toc_position": {},
   "toc_section_display": true,
   "toc_window_display": false
  }
 },
 "nbformat": 4,
 "nbformat_minor": 2
}
