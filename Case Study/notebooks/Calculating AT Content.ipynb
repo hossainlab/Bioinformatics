{
 "cells": [
  {
   "cell_type": "code",
   "execution_count": 1,
   "metadata": {},
   "outputs": [
    {
     "name": "stdout",
     "output_type": "stream",
     "text": [
      "60.41486603284356\n"
     ]
    }
   ],
   "source": [
    "def read_seq(inputfile):\n",
    "    \"\"\"\n",
    "    Reads the DNA sequence file and returns as strings. Removes all the special characters.\n",
    "    \"\"\"\n",
    "    with open(inputfile, \"r\") as f:\n",
    "        seq = f.read()\n",
    "        seq = seq.replace(\"\\n\", \"\")\n",
    "        seq = seq.replace(\"r\", \"\")\n",
    "    return seq \n",
    "\n",
    "def calculate_at_content(seq): \n",
    "    \"\"\"\n",
    "    Take DNA sequence as input and calculate the AT content.\n",
    "    \"\"\"\n",
    "    no_of_a = seq.count(\"A\")\n",
    "    no_of_t = seq.count(\"T\")\n",
    "    total = no_of_a + no_of_t\n",
    "    at = total/len(seq) * 100\n",
    "    \n",
    "    return at \n",
    "\n",
    "# Read the DNA sequence file \n",
    "dna = read_seq(\"../data/dna.txt\")\n",
    "# Calculate GC Content \n",
    "result = calculate_at_content(dna)\n",
    "print(result)"
   ]
  }
 ],
 "metadata": {
  "kernelspec": {
   "display_name": "Python 3",
   "language": "python",
   "name": "python3"
  },
  "language_info": {
   "codemirror_mode": {
    "name": "ipython",
    "version": 3
   },
   "file_extension": ".py",
   "mimetype": "text/x-python",
   "name": "python",
   "nbconvert_exporter": "python",
   "pygments_lexer": "ipython3",
   "version": "3.7.4"
  },
  "toc": {
   "base_numbering": 1,
   "nav_menu": {},
   "number_sections": true,
   "sideBar": true,
   "skip_h1_title": false,
   "title_cell": "Table of Contents",
   "title_sidebar": "Contents",
   "toc_cell": false,
   "toc_position": {},
   "toc_section_display": true,
   "toc_window_display": false
  }
 },
 "nbformat": 4,
 "nbformat_minor": 2
}
