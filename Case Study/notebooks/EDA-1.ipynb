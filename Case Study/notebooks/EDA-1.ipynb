{
 "cells": [
  {
   "cell_type": "markdown",
   "metadata": {},
   "source": [
    "# Exploratory Data Analysis-I\n",
    "\n",
    "## Task \n",
    "- Finding the Length of each Sequence and Creating a Length Column \n",
    "- Calculating GC Ratio and Creating GC Column \n",
    "- Finding the % of N and Creating % of N Column\n",
    "- Per Base Sequence Content\n",
    " \n",
    "## Basic Questions \n",
    "- Maximum and minimum sequence length?\n",
    "- Returns the maximum and minimum Length with their index. \n",
    "- Maximum and minimum sequence GC Ratio?\n",
    "- Returns the maximum and minimum GC Ratio with their index. \n",
    "- GC distributions. \n",
    "- No. of Gen and bar plot "
   ]
  },
  {
   "cell_type": "code",
   "execution_count": 47,
   "metadata": {},
   "outputs": [],
   "source": [
    "# library \n",
    "import numpy as np # for linear algebra \n",
    "import pandas as pd # for data mangement \n",
    "import matplotlib.pyplot as plt # for data visualizations\n",
    "import seaborn as sns # advance visualizations \n",
    "\n",
    "# set figure styles \n",
    "plt.rcParams['figure.figsize'] =(10,8)\n",
    "plt.rcParams['font.size'] = 14\n",
    "sns.set_style('whitegrid')\n",
    "\n",
    "# dask \n",
    "import dask.array as da # faster numpy calculations \n",
    "import dask.dataframe as dd # for faster data management"
   ]
  },
  {
   "cell_type": "markdown",
   "metadata": {},
   "source": [
    "## Reading and Exploring Data "
   ]
  },
  {
   "cell_type": "code",
   "execution_count": 2,
   "metadata": {},
   "outputs": [],
   "source": [
    "# read data \n",
    "df = pd.read_csv('./data/')"
   ]
  },
  {
   "cell_type": "code",
   "execution_count": 3,
   "metadata": {},
   "outputs": [
    {
     "data": {
      "text/html": [
       "<div>\n",
       "<style scoped>\n",
       "    .dataframe tbody tr th:only-of-type {\n",
       "        vertical-align: middle;\n",
       "    }\n",
       "\n",
       "    .dataframe tbody tr th {\n",
       "        vertical-align: top;\n",
       "    }\n",
       "\n",
       "    .dataframe thead th {\n",
       "        text-align: right;\n",
       "    }\n",
       "</style>\n",
       "<table border=\"1\" class=\"dataframe\">\n",
       "  <thead>\n",
       "    <tr style=\"text-align: right;\">\n",
       "      <th></th>\n",
       "      <th>Id</th>\n",
       "      <th>Des</th>\n",
       "      <th>Gen</th>\n",
       "      <th>Seq</th>\n",
       "    </tr>\n",
       "  </thead>\n",
       "  <tbody>\n",
       "    <tr>\n",
       "      <th>0</th>\n",
       "      <td>MK978772.1</td>\n",
       "      <td>Moumouvirus maliensis, complete genome</td>\n",
       "      <td>dsDNA</td>\n",
       "      <td>TGGATTTGTTAGTGATACGAATCGCTTTATAATCATATGTTTCTCT...</td>\n",
       "    </tr>\n",
       "    <tr>\n",
       "      <th>1</th>\n",
       "      <td>MT291826.1</td>\n",
       "      <td>Severe acute respiratory syndrome coronavirus ...</td>\n",
       "      <td>ssRNA(+)</td>\n",
       "      <td>TGGCTGTCACTCGGCTGCATGCTTAGTGCACTCACGCAGTATAATT...</td>\n",
       "    </tr>\n",
       "    <tr>\n",
       "      <th>2</th>\n",
       "      <td>MT291827.1</td>\n",
       "      <td>Severe acute respiratory syndrome coronavirus ...</td>\n",
       "      <td>ssRNA(+)</td>\n",
       "      <td>AACTTTCGATCTCTTGTAGATCTGTTCTCTAAACGAACTTTAAAAT...</td>\n",
       "    </tr>\n",
       "    <tr>\n",
       "      <th>3</th>\n",
       "      <td>MT291828.1</td>\n",
       "      <td>Severe acute respiratory syndrome coronavirus ...</td>\n",
       "      <td>ssRNA(+)</td>\n",
       "      <td>AACTTTCGATCTCTTGTAGATCTGTTCTCTAAACGAACTTTAAAAT...</td>\n",
       "    </tr>\n",
       "    <tr>\n",
       "      <th>4</th>\n",
       "      <td>MT291829.1</td>\n",
       "      <td>Severe acute respiratory syndrome coronavirus ...</td>\n",
       "      <td>ssRNA(+)</td>\n",
       "      <td>TGGCTGTCACTCGGCTGCATGCTTAGTGCACTCACGCAGTATAATT...</td>\n",
       "    </tr>\n",
       "  </tbody>\n",
       "</table>\n",
       "</div>"
      ],
      "text/plain": [
       "           Id                                                Des       Gen  \\\n",
       "0  MK978772.1             Moumouvirus maliensis, complete genome     dsDNA   \n",
       "1  MT291826.1  Severe acute respiratory syndrome coronavirus ...  ssRNA(+)   \n",
       "2  MT291827.1  Severe acute respiratory syndrome coronavirus ...  ssRNA(+)   \n",
       "3  MT291828.1  Severe acute respiratory syndrome coronavirus ...  ssRNA(+)   \n",
       "4  MT291829.1  Severe acute respiratory syndrome coronavirus ...  ssRNA(+)   \n",
       "\n",
       "                                                 Seq  \n",
       "0  TGGATTTGTTAGTGATACGAATCGCTTTATAATCATATGTTTCTCT...  \n",
       "1  TGGCTGTCACTCGGCTGCATGCTTAGTGCACTCACGCAGTATAATT...  \n",
       "2  AACTTTCGATCTCTTGTAGATCTGTTCTCTAAACGAACTTTAAAAT...  \n",
       "3  AACTTTCGATCTCTTGTAGATCTGTTCTCTAAACGAACTTTAAAAT...  \n",
       "4  TGGCTGTCACTCGGCTGCATGCTTAGTGCACTCACGCAGTATAATT...  "
      ]
     },
     "execution_count": 3,
     "metadata": {},
     "output_type": "execute_result"
    }
   ],
   "source": [
    "# examine first few rows \n",
    "df.head() "
   ]
  },
  {
   "cell_type": "code",
   "execution_count": 4,
   "metadata": {},
   "outputs": [
    {
     "data": {
      "text/plain": [
       "Index(['Id', 'Des', 'Gen', 'Seq'], dtype='object')"
      ]
     },
     "execution_count": 4,
     "metadata": {},
     "output_type": "execute_result"
    }
   ],
   "source": [
    "# columns names \n",
    "df.columns "
   ]
  },
  {
   "cell_type": "code",
   "execution_count": 5,
   "metadata": {},
   "outputs": [
    {
     "data": {
      "text/plain": [
       "(55984, 4)"
      ]
     },
     "execution_count": 5,
     "metadata": {},
     "output_type": "execute_result"
    }
   ],
   "source": [
    "# observations X columns \n",
    "df.shape"
   ]
  },
  {
   "cell_type": "code",
   "execution_count": 6,
   "metadata": {},
   "outputs": [
    {
     "name": "stdout",
     "output_type": "stream",
     "text": [
      "<class 'pandas.core.frame.DataFrame'>\n",
      "RangeIndex: 55984 entries, 0 to 55983\n",
      "Data columns (total 4 columns):\n",
      " #   Column  Non-Null Count  Dtype \n",
      "---  ------  --------------  ----- \n",
      " 0   Id      55984 non-null  object\n",
      " 1   Des     55984 non-null  object\n",
      " 2   Gen     55984 non-null  object\n",
      " 3   Seq     55984 non-null  object\n",
      "dtypes: object(4)\n",
      "memory usage: 1.7+ MB\n"
     ]
    }
   ],
   "source": [
    "# basic info \n",
    "df.info() "
   ]
  },
  {
   "cell_type": "code",
   "execution_count": 7,
   "metadata": {},
   "outputs": [
    {
     "data": {
      "text/html": [
       "<div>\n",
       "<style scoped>\n",
       "    .dataframe tbody tr th:only-of-type {\n",
       "        vertical-align: middle;\n",
       "    }\n",
       "\n",
       "    .dataframe tbody tr th {\n",
       "        vertical-align: top;\n",
       "    }\n",
       "\n",
       "    .dataframe thead th {\n",
       "        text-align: right;\n",
       "    }\n",
       "</style>\n",
       "<table border=\"1\" class=\"dataframe\">\n",
       "  <thead>\n",
       "    <tr style=\"text-align: right;\">\n",
       "      <th></th>\n",
       "      <th>Des</th>\n",
       "      <th>Gen</th>\n",
       "      <th>Seq</th>\n",
       "    </tr>\n",
       "    <tr>\n",
       "      <th>Id</th>\n",
       "      <th></th>\n",
       "      <th></th>\n",
       "      <th></th>\n",
       "    </tr>\n",
       "  </thead>\n",
       "  <tbody>\n",
       "    <tr>\n",
       "      <th>MK978772.1</th>\n",
       "      <td>Moumouvirus maliensis, complete genome</td>\n",
       "      <td>dsDNA</td>\n",
       "      <td>TGGATTTGTTAGTGATACGAATCGCTTTATAATCATATGTTTCTCT...</td>\n",
       "    </tr>\n",
       "    <tr>\n",
       "      <th>MT291826.1</th>\n",
       "      <td>Severe acute respiratory syndrome coronavirus ...</td>\n",
       "      <td>ssRNA(+)</td>\n",
       "      <td>TGGCTGTCACTCGGCTGCATGCTTAGTGCACTCACGCAGTATAATT...</td>\n",
       "    </tr>\n",
       "    <tr>\n",
       "      <th>MT291827.1</th>\n",
       "      <td>Severe acute respiratory syndrome coronavirus ...</td>\n",
       "      <td>ssRNA(+)</td>\n",
       "      <td>AACTTTCGATCTCTTGTAGATCTGTTCTCTAAACGAACTTTAAAAT...</td>\n",
       "    </tr>\n",
       "    <tr>\n",
       "      <th>MT291828.1</th>\n",
       "      <td>Severe acute respiratory syndrome coronavirus ...</td>\n",
       "      <td>ssRNA(+)</td>\n",
       "      <td>AACTTTCGATCTCTTGTAGATCTGTTCTCTAAACGAACTTTAAAAT...</td>\n",
       "    </tr>\n",
       "    <tr>\n",
       "      <th>MT291829.1</th>\n",
       "      <td>Severe acute respiratory syndrome coronavirus ...</td>\n",
       "      <td>ssRNA(+)</td>\n",
       "      <td>TGGCTGTCACTCGGCTGCATGCTTAGTGCACTCACGCAGTATAATT...</td>\n",
       "    </tr>\n",
       "  </tbody>\n",
       "</table>\n",
       "</div>"
      ],
      "text/plain": [
       "                                                          Des       Gen  \\\n",
       "Id                                                                        \n",
       "MK978772.1             Moumouvirus maliensis, complete genome     dsDNA   \n",
       "MT291826.1  Severe acute respiratory syndrome coronavirus ...  ssRNA(+)   \n",
       "MT291827.1  Severe acute respiratory syndrome coronavirus ...  ssRNA(+)   \n",
       "MT291828.1  Severe acute respiratory syndrome coronavirus ...  ssRNA(+)   \n",
       "MT291829.1  Severe acute respiratory syndrome coronavirus ...  ssRNA(+)   \n",
       "\n",
       "                                                          Seq  \n",
       "Id                                                             \n",
       "MK978772.1  TGGATTTGTTAGTGATACGAATCGCTTTATAATCATATGTTTCTCT...  \n",
       "MT291826.1  TGGCTGTCACTCGGCTGCATGCTTAGTGCACTCACGCAGTATAATT...  \n",
       "MT291827.1  AACTTTCGATCTCTTGTAGATCTGTTCTCTAAACGAACTTTAAAAT...  \n",
       "MT291828.1  AACTTTCGATCTCTTGTAGATCTGTTCTCTAAACGAACTTTAAAAT...  \n",
       "MT291829.1  TGGCTGTCACTCGGCTGCATGCTTAGTGCACTCACGCAGTATAATT...  "
      ]
     },
     "execution_count": 7,
     "metadata": {},
     "output_type": "execute_result"
    }
   ],
   "source": [
    "# set index as Id \n",
    "df = df.set_index('Id')\n",
    "df.head() "
   ]
  },
  {
   "cell_type": "markdown",
   "metadata": {},
   "source": [
    "## Missing Values "
   ]
  },
  {
   "cell_type": "code",
   "execution_count": 8,
   "metadata": {},
   "outputs": [
    {
     "data": {
      "image/png": "[encoded data removed]",
      "text/plain": [
       "<Figure size 720x576 with 2 Axes>"
      ]
     },
     "metadata": {},
     "output_type": "display_data"
    }
   ],
   "source": [
    "# missing values \n",
    "sns.heatmap(df.isnull(), cmap='viridis');"
   ]
  },
  {
   "cell_type": "markdown",
   "metadata": {},
   "source": [
    "## Data Cleaning "
   ]
  },
  {
   "cell_type": "code",
   "execution_count": 9,
   "metadata": {},
   "outputs": [
    {
     "data": {
      "text/plain": [
       "Id\n",
       "MK978772.1    TGGATTTGTTAGTGATACGAATCGCTTTATAATCATATGTTTCTCT...\n",
       "MT291826.1    TGGCTGTCACTCGGCTGCATGCTTAGTGCACTCACGCAGTATAATT...\n",
       "MT291827.1    AACTTTCGATCTCTTGTAGATCTGTTCTCTAAACGAACTTTAAAAT...\n",
       "MT291828.1    AACTTTCGATCTCTTGTAGATCTGTTCTCTAAACGAACTTTAAAAT...\n",
       "MT291829.1    TGGCTGTCACTCGGCTGCATGCTTAGTGCACTCACGCAGTATAATT...\n",
       "                                    ...                        \n",
       "MF469443.1    TCTGATGGTGTAAGCATGAAAGTATTAGCTTTAAGACACAGTGTGG...\n",
       "MF469444.1    ATGGCTTCGCTCATTTATAGACAGCTTCTCACTAATTCATATTCAG...\n",
       "MF469445.1    GGCTTTTAAACGAAGTCTTCGACATGGAGGTTCTGTATTCATTGTC...\n",
       "MF469446.1    GGCTTTAAAAGAGAGAATTTCCGTTTGGCTAGCGGTTAGCTCCTTT...\n",
       "KY451945.1    TTGTTAGTCTGTGTGGACCGACAAGGACAGTTCCAAATCGGAAGCT...\n",
       "Name: Seq, Length: 55984, dtype: object"
      ]
     },
     "execution_count": 9,
     "metadata": {},
     "output_type": "execute_result"
    }
   ],
   "source": [
    "# replace newline or tab character with empty space\n",
    "df.Seq.str.replace(\"\\n\", \"\")\n",
    "df.Seq.str.replace(\"\\t\", \"\")"
   ]
  },
  {
   "cell_type": "code",
   "execution_count": 10,
   "metadata": {},
   "outputs": [
    {
     "data": {
      "text/plain": [
       "999513"
      ]
     },
     "execution_count": 10,
     "metadata": {},
     "output_type": "execute_result"
    }
   ],
   "source": [
    "# check length of first seq \n",
    "len(df.Seq.iloc[0]) "
   ]
  },
  {
   "cell_type": "markdown",
   "metadata": {},
   "source": [
    "## Task #1: Finding the Length of each Sequences and Creating a Length Column "
   ]
  },
  {
   "cell_type": "code",
   "execution_count": 11,
   "metadata": {},
   "outputs": [
    {
     "data": {
      "text/plain": [
       "45"
      ]
     },
     "execution_count": 11,
     "metadata": {},
     "output_type": "execute_result"
    }
   ],
   "source": [
    "# find the length \n",
    "L = lambda seq: len(seq)\n",
    "# test\n",
    "L('TGGATTTGTTAGTGATACGAATCGCTTTATAATCATATGTTTCTC')"
   ]
  },
  {
   "cell_type": "code",
   "execution_count": 12,
   "metadata": {},
   "outputs": [],
   "source": [
    "# seqLen apply \n",
    "df['Len'] = df['Seq'].apply(lambda seq: len(seq))"
   ]
  },
  {
   "cell_type": "code",
   "execution_count": 13,
   "metadata": {},
   "outputs": [
    {
     "data": {
      "text/html": [
       "<div>\n",
       "<style scoped>\n",
       "    .dataframe tbody tr th:only-of-type {\n",
       "        vertical-align: middle;\n",
       "    }\n",
       "\n",
       "    .dataframe tbody tr th {\n",
       "        vertical-align: top;\n",
       "    }\n",
       "\n",
       "    .dataframe thead th {\n",
       "        text-align: right;\n",
       "    }\n",
       "</style>\n",
       "<table border=\"1\" class=\"dataframe\">\n",
       "  <thead>\n",
       "    <tr style=\"text-align: right;\">\n",
       "      <th></th>\n",
       "      <th>Des</th>\n",
       "      <th>Gen</th>\n",
       "      <th>Seq</th>\n",
       "      <th>Len</th>\n",
       "    </tr>\n",
       "    <tr>\n",
       "      <th>Id</th>\n",
       "      <th></th>\n",
       "      <th></th>\n",
       "      <th></th>\n",
       "      <th></th>\n",
       "    </tr>\n",
       "  </thead>\n",
       "  <tbody>\n",
       "    <tr>\n",
       "      <th>MK978772.1</th>\n",
       "      <td>Moumouvirus maliensis, complete genome</td>\n",
       "      <td>dsDNA</td>\n",
       "      <td>TGGATTTGTTAGTGATACGAATCGCTTTATAATCATATGTTTCTCT...</td>\n",
       "      <td>999513</td>\n",
       "    </tr>\n",
       "    <tr>\n",
       "      <th>MT291826.1</th>\n",
       "      <td>Severe acute respiratory syndrome coronavirus ...</td>\n",
       "      <td>ssRNA(+)</td>\n",
       "      <td>TGGCTGTCACTCGGCTGCATGCTTAGTGCACTCACGCAGTATAATT...</td>\n",
       "      <td>29807</td>\n",
       "    </tr>\n",
       "    <tr>\n",
       "      <th>MT291827.1</th>\n",
       "      <td>Severe acute respiratory syndrome coronavirus ...</td>\n",
       "      <td>ssRNA(+)</td>\n",
       "      <td>AACTTTCGATCTCTTGTAGATCTGTTCTCTAAACGAACTTTAAAAT...</td>\n",
       "      <td>29858</td>\n",
       "    </tr>\n",
       "    <tr>\n",
       "      <th>MT291828.1</th>\n",
       "      <td>Severe acute respiratory syndrome coronavirus ...</td>\n",
       "      <td>ssRNA(+)</td>\n",
       "      <td>AACTTTCGATCTCTTGTAGATCTGTTCTCTAAACGAACTTTAAAAT...</td>\n",
       "      <td>29858</td>\n",
       "    </tr>\n",
       "    <tr>\n",
       "      <th>MT291829.1</th>\n",
       "      <td>Severe acute respiratory syndrome coronavirus ...</td>\n",
       "      <td>ssRNA(+)</td>\n",
       "      <td>TGGCTGTCACTCGGCTGCATGCTTAGTGCACTCACGCAGTATAATT...</td>\n",
       "      <td>29774</td>\n",
       "    </tr>\n",
       "    <tr>\n",
       "      <th>MT291830.1</th>\n",
       "      <td>Severe acute respiratory syndrome coronavirus ...</td>\n",
       "      <td>ssRNA(+)</td>\n",
       "      <td>TGGCTGTCACTCGGCTGCATGCTTAGTGCACTCACGCAGTATAATT...</td>\n",
       "      <td>29807</td>\n",
       "    </tr>\n",
       "    <tr>\n",
       "      <th>MT291831.1</th>\n",
       "      <td>Severe acute respiratory syndrome coronavirus ...</td>\n",
       "      <td>ssRNA(+)</td>\n",
       "      <td>AGGTTTATACCTTCCCAGGTAACAAACCAACCAACTTTCGATCTCT...</td>\n",
       "      <td>29872</td>\n",
       "    </tr>\n",
       "    <tr>\n",
       "      <th>MT291832.1</th>\n",
       "      <td>Severe acute respiratory syndrome coronavirus ...</td>\n",
       "      <td>ssRNA(+)</td>\n",
       "      <td>TTTATACCTTCCCAGGTAACAAACCAACCAACTTTCGATCTCTTGT...</td>\n",
       "      <td>29828</td>\n",
       "    </tr>\n",
       "    <tr>\n",
       "      <th>MT291833.1</th>\n",
       "      <td>Severe acute respiratory syndrome coronavirus ...</td>\n",
       "      <td>ssRNA(+)</td>\n",
       "      <td>CAGGTAACAAACCAACCAACTTTCGATCTCTTGTAGATCTGTTCTC...</td>\n",
       "      <td>29821</td>\n",
       "    </tr>\n",
       "    <tr>\n",
       "      <th>MT291834.1</th>\n",
       "      <td>Severe acute respiratory syndrome coronavirus ...</td>\n",
       "      <td>ssRNA(+)</td>\n",
       "      <td>TTTATACCTTCCCAGGTAACAAACCAACCAACTTTCGATCTCTTGT...</td>\n",
       "      <td>29865</td>\n",
       "    </tr>\n",
       "  </tbody>\n",
       "</table>\n",
       "</div>"
      ],
      "text/plain": [
       "                                                          Des       Gen  \\\n",
       "Id                                                                        \n",
       "MK978772.1             Moumouvirus maliensis, complete genome     dsDNA   \n",
       "MT291826.1  Severe acute respiratory syndrome coronavirus ...  ssRNA(+)   \n",
       "MT291827.1  Severe acute respiratory syndrome coronavirus ...  ssRNA(+)   \n",
       "MT291828.1  Severe acute respiratory syndrome coronavirus ...  ssRNA(+)   \n",
       "MT291829.1  Severe acute respiratory syndrome coronavirus ...  ssRNA(+)   \n",
       "MT291830.1  Severe acute respiratory syndrome coronavirus ...  ssRNA(+)   \n",
       "MT291831.1  Severe acute respiratory syndrome coronavirus ...  ssRNA(+)   \n",
       "MT291832.1  Severe acute respiratory syndrome coronavirus ...  ssRNA(+)   \n",
       "MT291833.1  Severe acute respiratory syndrome coronavirus ...  ssRNA(+)   \n",
       "MT291834.1  Severe acute respiratory syndrome coronavirus ...  ssRNA(+)   \n",
       "\n",
       "                                                          Seq     Len  \n",
       "Id                                                                     \n",
       "MK978772.1  TGGATTTGTTAGTGATACGAATCGCTTTATAATCATATGTTTCTCT...  999513  \n",
       "MT291826.1  TGGCTGTCACTCGGCTGCATGCTTAGTGCACTCACGCAGTATAATT...   29807  \n",
       "MT291827.1  AACTTTCGATCTCTTGTAGATCTGTTCTCTAAACGAACTTTAAAAT...   29858  \n",
       "MT291828.1  AACTTTCGATCTCTTGTAGATCTGTTCTCTAAACGAACTTTAAAAT...   29858  \n",
       "MT291829.1  TGGCTGTCACTCGGCTGCATGCTTAGTGCACTCACGCAGTATAATT...   29774  \n",
       "MT291830.1  TGGCTGTCACTCGGCTGCATGCTTAGTGCACTCACGCAGTATAATT...   29807  \n",
       "MT291831.1  AGGTTTATACCTTCCCAGGTAACAAACCAACCAACTTTCGATCTCT...   29872  \n",
       "MT291832.1  TTTATACCTTCCCAGGTAACAAACCAACCAACTTTCGATCTCTTGT...   29828  \n",
       "MT291833.1  CAGGTAACAAACCAACCAACTTTCGATCTCTTGTAGATCTGTTCTC...   29821  \n",
       "MT291834.1  TTTATACCTTCCCAGGTAACAAACCAACCAACTTTCGATCTCTTGT...   29865  "
      ]
     },
     "execution_count": 13,
     "metadata": {},
     "output_type": "execute_result"
    }
   ],
   "source": [
    "df.head(10)"
   ]
  },
  {
   "cell_type": "markdown",
   "metadata": {},
   "source": [
    "## Task #2: Calculating GC Ratio and Creating GC Column"
   ]
  },
  {
   "cell_type": "markdown",
   "metadata": {},
   "source": [
    "### GC Usefulness \n",
    "- GC-content (or guanine-cytosine content) is the percentage of nitrogenous bases in a DNA or RNA molecule that are either guanine (G) or cytosine (C)\n",
    "- In polymerase chain reaction (PCR) experiments, the GC-content of short oligonucleotides known as primers is often used to predict their annealing temperature to the template DNA.\n",
    "- A higher GC-content level indicates a relatively higher melting temperature.\n",
    "- DNA with low GC-content is less stable than DNA with high GC-content"
   ]
  },
  {
   "cell_type": "code",
   "execution_count": 14,
   "metadata": {},
   "outputs": [],
   "source": [
    "def calculateGC(seq): \n",
    "    \"\"\"Returns GC Ratio of a sequence\"\"\"\n",
    "    return round((seq.count('G') + seq.count('C'))/len(seq) * 100, 2) "
   ]
  },
  {
   "cell_type": "code",
   "execution_count": 15,
   "metadata": {},
   "outputs": [
    {
     "data": {
      "text/plain": [
       "30.43"
      ]
     },
     "execution_count": 15,
     "metadata": {},
     "output_type": "execute_result"
    }
   ],
   "source": [
    "# test fun\n",
    "calculateGC('TGGATTTGTTAGTGATACGAATCGCTTTATAATCATATGTTTCTCT')"
   ]
  },
  {
   "cell_type": "code",
   "execution_count": 16,
   "metadata": {},
   "outputs": [],
   "source": [
    "# calculateGC apply\n",
    "df['GC'] = df['Seq'].apply(calculateGC)"
   ]
  },
  {
   "cell_type": "code",
   "execution_count": 17,
   "metadata": {},
   "outputs": [
    {
     "data": {
      "text/html": [
       "<div>\n",
       "<style scoped>\n",
       "    .dataframe tbody tr th:only-of-type {\n",
       "        vertical-align: middle;\n",
       "    }\n",
       "\n",
       "    .dataframe tbody tr th {\n",
       "        vertical-align: top;\n",
       "    }\n",
       "\n",
       "    .dataframe thead th {\n",
       "        text-align: right;\n",
       "    }\n",
       "</style>\n",
       "<table border=\"1\" class=\"dataframe\">\n",
       "  <thead>\n",
       "    <tr style=\"text-align: right;\">\n",
       "      <th></th>\n",
       "      <th>Des</th>\n",
       "      <th>Gen</th>\n",
       "      <th>Seq</th>\n",
       "      <th>Len</th>\n",
       "      <th>GC</th>\n",
       "    </tr>\n",
       "    <tr>\n",
       "      <th>Id</th>\n",
       "      <th></th>\n",
       "      <th></th>\n",
       "      <th></th>\n",
       "      <th></th>\n",
       "      <th></th>\n",
       "    </tr>\n",
       "  </thead>\n",
       "  <tbody>\n",
       "    <tr>\n",
       "      <th>MK978772.1</th>\n",
       "      <td>Moumouvirus maliensis, complete genome</td>\n",
       "      <td>dsDNA</td>\n",
       "      <td>TGGATTTGTTAGTGATACGAATCGCTTTATAATCATATGTTTCTCT...</td>\n",
       "      <td>999513</td>\n",
       "      <td>25.35</td>\n",
       "    </tr>\n",
       "    <tr>\n",
       "      <th>MT291826.1</th>\n",
       "      <td>Severe acute respiratory syndrome coronavirus ...</td>\n",
       "      <td>ssRNA(+)</td>\n",
       "      <td>TGGCTGTCACTCGGCTGCATGCTTAGTGCACTCACGCAGTATAATT...</td>\n",
       "      <td>29807</td>\n",
       "      <td>37.99</td>\n",
       "    </tr>\n",
       "    <tr>\n",
       "      <th>MT291827.1</th>\n",
       "      <td>Severe acute respiratory syndrome coronavirus ...</td>\n",
       "      <td>ssRNA(+)</td>\n",
       "      <td>AACTTTCGATCTCTTGTAGATCTGTTCTCTAAACGAACTTTAAAAT...</td>\n",
       "      <td>29858</td>\n",
       "      <td>37.98</td>\n",
       "    </tr>\n",
       "    <tr>\n",
       "      <th>MT291828.1</th>\n",
       "      <td>Severe acute respiratory syndrome coronavirus ...</td>\n",
       "      <td>ssRNA(+)</td>\n",
       "      <td>AACTTTCGATCTCTTGTAGATCTGTTCTCTAAACGAACTTTAAAAT...</td>\n",
       "      <td>29858</td>\n",
       "      <td>37.99</td>\n",
       "    </tr>\n",
       "    <tr>\n",
       "      <th>MT291829.1</th>\n",
       "      <td>Severe acute respiratory syndrome coronavirus ...</td>\n",
       "      <td>ssRNA(+)</td>\n",
       "      <td>TGGCTGTCACTCGGCTGCATGCTTAGTGCACTCACGCAGTATAATT...</td>\n",
       "      <td>29774</td>\n",
       "      <td>38.02</td>\n",
       "    </tr>\n",
       "    <tr>\n",
       "      <th>MT291830.1</th>\n",
       "      <td>Severe acute respiratory syndrome coronavirus ...</td>\n",
       "      <td>ssRNA(+)</td>\n",
       "      <td>TGGCTGTCACTCGGCTGCATGCTTAGTGCACTCACGCAGTATAATT...</td>\n",
       "      <td>29807</td>\n",
       "      <td>37.99</td>\n",
       "    </tr>\n",
       "    <tr>\n",
       "      <th>MT291831.1</th>\n",
       "      <td>Severe acute respiratory syndrome coronavirus ...</td>\n",
       "      <td>ssRNA(+)</td>\n",
       "      <td>AGGTTTATACCTTCCCAGGTAACAAACCAACCAACTTTCGATCTCT...</td>\n",
       "      <td>29872</td>\n",
       "      <td>38.00</td>\n",
       "    </tr>\n",
       "    <tr>\n",
       "      <th>MT291832.1</th>\n",
       "      <td>Severe acute respiratory syndrome coronavirus ...</td>\n",
       "      <td>ssRNA(+)</td>\n",
       "      <td>TTTATACCTTCCCAGGTAACAAACCAACCAACTTTCGATCTCTTGT...</td>\n",
       "      <td>29828</td>\n",
       "      <td>38.02</td>\n",
       "    </tr>\n",
       "    <tr>\n",
       "      <th>MT291833.1</th>\n",
       "      <td>Severe acute respiratory syndrome coronavirus ...</td>\n",
       "      <td>ssRNA(+)</td>\n",
       "      <td>CAGGTAACAAACCAACCAACTTTCGATCTCTTGTAGATCTGTTCTC...</td>\n",
       "      <td>29821</td>\n",
       "      <td>38.03</td>\n",
       "    </tr>\n",
       "    <tr>\n",
       "      <th>MT291834.1</th>\n",
       "      <td>Severe acute respiratory syndrome coronavirus ...</td>\n",
       "      <td>ssRNA(+)</td>\n",
       "      <td>TTTATACCTTCCCAGGTAACAAACCAACCAACTTTCGATCTCTTGT...</td>\n",
       "      <td>29865</td>\n",
       "      <td>38.01</td>\n",
       "    </tr>\n",
       "  </tbody>\n",
       "</table>\n",
       "</div>"
      ],
      "text/plain": [
       "                                                          Des       Gen  \\\n",
       "Id                                                                        \n",
       "MK978772.1             Moumouvirus maliensis, complete genome     dsDNA   \n",
       "MT291826.1  Severe acute respiratory syndrome coronavirus ...  ssRNA(+)   \n",
       "MT291827.1  Severe acute respiratory syndrome coronavirus ...  ssRNA(+)   \n",
       "MT291828.1  Severe acute respiratory syndrome coronavirus ...  ssRNA(+)   \n",
       "MT291829.1  Severe acute respiratory syndrome coronavirus ...  ssRNA(+)   \n",
       "MT291830.1  Severe acute respiratory syndrome coronavirus ...  ssRNA(+)   \n",
       "MT291831.1  Severe acute respiratory syndrome coronavirus ...  ssRNA(+)   \n",
       "MT291832.1  Severe acute respiratory syndrome coronavirus ...  ssRNA(+)   \n",
       "MT291833.1  Severe acute respiratory syndrome coronavirus ...  ssRNA(+)   \n",
       "MT291834.1  Severe acute respiratory syndrome coronavirus ...  ssRNA(+)   \n",
       "\n",
       "                                                          Seq     Len     GC  \n",
       "Id                                                                            \n",
       "MK978772.1  TGGATTTGTTAGTGATACGAATCGCTTTATAATCATATGTTTCTCT...  999513  25.35  \n",
       "MT291826.1  TGGCTGTCACTCGGCTGCATGCTTAGTGCACTCACGCAGTATAATT...   29807  37.99  \n",
       "MT291827.1  AACTTTCGATCTCTTGTAGATCTGTTCTCTAAACGAACTTTAAAAT...   29858  37.98  \n",
       "MT291828.1  AACTTTCGATCTCTTGTAGATCTGTTCTCTAAACGAACTTTAAAAT...   29858  37.99  \n",
       "MT291829.1  TGGCTGTCACTCGGCTGCATGCTTAGTGCACTCACGCAGTATAATT...   29774  38.02  \n",
       "MT291830.1  TGGCTGTCACTCGGCTGCATGCTTAGTGCACTCACGCAGTATAATT...   29807  37.99  \n",
       "MT291831.1  AGGTTTATACCTTCCCAGGTAACAAACCAACCAACTTTCGATCTCT...   29872  38.00  \n",
       "MT291832.1  TTTATACCTTCCCAGGTAACAAACCAACCAACTTTCGATCTCTTGT...   29828  38.02  \n",
       "MT291833.1  CAGGTAACAAACCAACCAACTTTCGATCTCTTGTAGATCTGTTCTC...   29821  38.03  \n",
       "MT291834.1  TTTATACCTTCCCAGGTAACAAACCAACCAACTTTCGATCTCTTGT...   29865  38.01  "
      ]
     },
     "execution_count": 17,
     "metadata": {},
     "output_type": "execute_result"
    }
   ],
   "source": [
    "df.head(10)"
   ]
  },
  {
   "cell_type": "markdown",
   "metadata": {},
   "source": [
    "## Task #3: Finding the % of N and Creating % of N Column\n",
    "The bases marked by N could not be identified due to the low quality of the DNA sequence."
   ]
  },
  {
   "cell_type": "code",
   "execution_count": 18,
   "metadata": {},
   "outputs": [
    {
     "data": {
      "text/plain": [
       "8.16"
      ]
     },
     "execution_count": 18,
     "metadata": {},
     "output_type": "execute_result"
    }
   ],
   "source": [
    "counts = lambda seq: round((seq.count('N') /len(seq)) * 100,2)\n",
    "# test\n",
    "counts('TGGATTTGTTAGTGATACGANATCGCTTTATAATCATNATGTTTNCTCN')"
   ]
  },
  {
   "cell_type": "code",
   "execution_count": 19,
   "metadata": {},
   "outputs": [],
   "source": [
    "# create a column N \n",
    "df['%N'] = df['Seq'].apply(lambda seq: seq.count('N'))"
   ]
  },
  {
   "cell_type": "code",
   "execution_count": 20,
   "metadata": {},
   "outputs": [
    {
     "data": {
      "text/html": [
       "<div>\n",
       "<style scoped>\n",
       "    .dataframe tbody tr th:only-of-type {\n",
       "        vertical-align: middle;\n",
       "    }\n",
       "\n",
       "    .dataframe tbody tr th {\n",
       "        vertical-align: top;\n",
       "    }\n",
       "\n",
       "    .dataframe thead th {\n",
       "        text-align: right;\n",
       "    }\n",
       "</style>\n",
       "<table border=\"1\" class=\"dataframe\">\n",
       "  <thead>\n",
       "    <tr style=\"text-align: right;\">\n",
       "      <th></th>\n",
       "      <th>Des</th>\n",
       "      <th>Gen</th>\n",
       "      <th>Seq</th>\n",
       "      <th>Len</th>\n",
       "      <th>GC</th>\n",
       "      <th>%N</th>\n",
       "    </tr>\n",
       "    <tr>\n",
       "      <th>Id</th>\n",
       "      <th></th>\n",
       "      <th></th>\n",
       "      <th></th>\n",
       "      <th></th>\n",
       "      <th></th>\n",
       "      <th></th>\n",
       "    </tr>\n",
       "  </thead>\n",
       "  <tbody>\n",
       "    <tr>\n",
       "      <th>MK978772.1</th>\n",
       "      <td>Moumouvirus maliensis, complete genome</td>\n",
       "      <td>dsDNA</td>\n",
       "      <td>TGGATTTGTTAGTGATACGAATCGCTTTATAATCATATGTTTCTCT...</td>\n",
       "      <td>999513</td>\n",
       "      <td>25.35</td>\n",
       "      <td>0</td>\n",
       "    </tr>\n",
       "    <tr>\n",
       "      <th>MT291826.1</th>\n",
       "      <td>Severe acute respiratory syndrome coronavirus ...</td>\n",
       "      <td>ssRNA(+)</td>\n",
       "      <td>TGGCTGTCACTCGGCTGCATGCTTAGTGCACTCACGCAGTATAATT...</td>\n",
       "      <td>29807</td>\n",
       "      <td>37.99</td>\n",
       "      <td>0</td>\n",
       "    </tr>\n",
       "    <tr>\n",
       "      <th>MT291827.1</th>\n",
       "      <td>Severe acute respiratory syndrome coronavirus ...</td>\n",
       "      <td>ssRNA(+)</td>\n",
       "      <td>AACTTTCGATCTCTTGTAGATCTGTTCTCTAAACGAACTTTAAAAT...</td>\n",
       "      <td>29858</td>\n",
       "      <td>37.98</td>\n",
       "      <td>0</td>\n",
       "    </tr>\n",
       "    <tr>\n",
       "      <th>MT291828.1</th>\n",
       "      <td>Severe acute respiratory syndrome coronavirus ...</td>\n",
       "      <td>ssRNA(+)</td>\n",
       "      <td>AACTTTCGATCTCTTGTAGATCTGTTCTCTAAACGAACTTTAAAAT...</td>\n",
       "      <td>29858</td>\n",
       "      <td>37.99</td>\n",
       "      <td>0</td>\n",
       "    </tr>\n",
       "    <tr>\n",
       "      <th>MT291829.1</th>\n",
       "      <td>Severe acute respiratory syndrome coronavirus ...</td>\n",
       "      <td>ssRNA(+)</td>\n",
       "      <td>TGGCTGTCACTCGGCTGCATGCTTAGTGCACTCACGCAGTATAATT...</td>\n",
       "      <td>29774</td>\n",
       "      <td>38.02</td>\n",
       "      <td>0</td>\n",
       "    </tr>\n",
       "    <tr>\n",
       "      <th>MT291830.1</th>\n",
       "      <td>Severe acute respiratory syndrome coronavirus ...</td>\n",
       "      <td>ssRNA(+)</td>\n",
       "      <td>TGGCTGTCACTCGGCTGCATGCTTAGTGCACTCACGCAGTATAATT...</td>\n",
       "      <td>29807</td>\n",
       "      <td>37.99</td>\n",
       "      <td>0</td>\n",
       "    </tr>\n",
       "    <tr>\n",
       "      <th>MT291831.1</th>\n",
       "      <td>Severe acute respiratory syndrome coronavirus ...</td>\n",
       "      <td>ssRNA(+)</td>\n",
       "      <td>AGGTTTATACCTTCCCAGGTAACAAACCAACCAACTTTCGATCTCT...</td>\n",
       "      <td>29872</td>\n",
       "      <td>38.00</td>\n",
       "      <td>0</td>\n",
       "    </tr>\n",
       "    <tr>\n",
       "      <th>MT291832.1</th>\n",
       "      <td>Severe acute respiratory syndrome coronavirus ...</td>\n",
       "      <td>ssRNA(+)</td>\n",
       "      <td>TTTATACCTTCCCAGGTAACAAACCAACCAACTTTCGATCTCTTGT...</td>\n",
       "      <td>29828</td>\n",
       "      <td>38.02</td>\n",
       "      <td>0</td>\n",
       "    </tr>\n",
       "    <tr>\n",
       "      <th>MT291833.1</th>\n",
       "      <td>Severe acute respiratory syndrome coronavirus ...</td>\n",
       "      <td>ssRNA(+)</td>\n",
       "      <td>CAGGTAACAAACCAACCAACTTTCGATCTCTTGTAGATCTGTTCTC...</td>\n",
       "      <td>29821</td>\n",
       "      <td>38.03</td>\n",
       "      <td>0</td>\n",
       "    </tr>\n",
       "    <tr>\n",
       "      <th>MT291834.1</th>\n",
       "      <td>Severe acute respiratory syndrome coronavirus ...</td>\n",
       "      <td>ssRNA(+)</td>\n",
       "      <td>TTTATACCTTCCCAGGTAACAAACCAACCAACTTTCGATCTCTTGT...</td>\n",
       "      <td>29865</td>\n",
       "      <td>38.01</td>\n",
       "      <td>0</td>\n",
       "    </tr>\n",
       "  </tbody>\n",
       "</table>\n",
       "</div>"
      ],
      "text/plain": [
       "                                                          Des       Gen  \\\n",
       "Id                                                                        \n",
       "MK978772.1             Moumouvirus maliensis, complete genome     dsDNA   \n",
       "MT291826.1  Severe acute respiratory syndrome coronavirus ...  ssRNA(+)   \n",
       "MT291827.1  Severe acute respiratory syndrome coronavirus ...  ssRNA(+)   \n",
       "MT291828.1  Severe acute respiratory syndrome coronavirus ...  ssRNA(+)   \n",
       "MT291829.1  Severe acute respiratory syndrome coronavirus ...  ssRNA(+)   \n",
       "MT291830.1  Severe acute respiratory syndrome coronavirus ...  ssRNA(+)   \n",
       "MT291831.1  Severe acute respiratory syndrome coronavirus ...  ssRNA(+)   \n",
       "MT291832.1  Severe acute respiratory syndrome coronavirus ...  ssRNA(+)   \n",
       "MT291833.1  Severe acute respiratory syndrome coronavirus ...  ssRNA(+)   \n",
       "MT291834.1  Severe acute respiratory syndrome coronavirus ...  ssRNA(+)   \n",
       "\n",
       "                                                          Seq     Len     GC  \\\n",
       "Id                                                                             \n",
       "MK978772.1  TGGATTTGTTAGTGATACGAATCGCTTTATAATCATATGTTTCTCT...  999513  25.35   \n",
       "MT291826.1  TGGCTGTCACTCGGCTGCATGCTTAGTGCACTCACGCAGTATAATT...   29807  37.99   \n",
       "MT291827.1  AACTTTCGATCTCTTGTAGATCTGTTCTCTAAACGAACTTTAAAAT...   29858  37.98   \n",
       "MT291828.1  AACTTTCGATCTCTTGTAGATCTGTTCTCTAAACGAACTTTAAAAT...   29858  37.99   \n",
       "MT291829.1  TGGCTGTCACTCGGCTGCATGCTTAGTGCACTCACGCAGTATAATT...   29774  38.02   \n",
       "MT291830.1  TGGCTGTCACTCGGCTGCATGCTTAGTGCACTCACGCAGTATAATT...   29807  37.99   \n",
       "MT291831.1  AGGTTTATACCTTCCCAGGTAACAAACCAACCAACTTTCGATCTCT...   29872  38.00   \n",
       "MT291832.1  TTTATACCTTCCCAGGTAACAAACCAACCAACTTTCGATCTCTTGT...   29828  38.02   \n",
       "MT291833.1  CAGGTAACAAACCAACCAACTTTCGATCTCTTGTAGATCTGTTCTC...   29821  38.03   \n",
       "MT291834.1  TTTATACCTTCCCAGGTAACAAACCAACCAACTTTCGATCTCTTGT...   29865  38.01   \n",
       "\n",
       "            %N  \n",
       "Id              \n",
       "MK978772.1   0  \n",
       "MT291826.1   0  \n",
       "MT291827.1   0  \n",
       "MT291828.1   0  \n",
       "MT291829.1   0  \n",
       "MT291830.1   0  \n",
       "MT291831.1   0  \n",
       "MT291832.1   0  \n",
       "MT291833.1   0  \n",
       "MT291834.1   0  "
      ]
     },
     "execution_count": 20,
     "metadata": {},
     "output_type": "execute_result"
    }
   ],
   "source": [
    "df.head(10)"
   ]
  },
  {
   "cell_type": "markdown",
   "metadata": {},
   "source": [
    "## Task #4: Per Base Sequence Content"
   ]
  },
  {
   "cell_type": "code",
   "execution_count": 21,
   "metadata": {},
   "outputs": [
    {
     "data": {
      "text/plain": [
       "22.45"
      ]
     },
     "execution_count": 21,
     "metadata": {},
     "output_type": "execute_result"
    }
   ],
   "source": [
    "A = lambda seq: round((seq.count('A') /len(seq)) * 100,2)\n",
    "# test\n",
    "A('TGGATTTGTTAGTGATACGANATCGCTTTATAATCATNATGTTTNCTCN')"
   ]
  },
  {
   "cell_type": "code",
   "execution_count": 22,
   "metadata": {},
   "outputs": [
    {
     "data": {
      "text/plain": [
       "40.82"
      ]
     },
     "execution_count": 22,
     "metadata": {},
     "output_type": "execute_result"
    }
   ],
   "source": [
    "T = lambda seq: round((seq.count('T') /len(seq)) * 100,2)\n",
    "# test\n",
    "T('TGGATTTGTTAGTGATACGANATCGCTTTATAATCATNATGTTTNCTCN') "
   ]
  },
  {
   "cell_type": "code",
   "execution_count": 23,
   "metadata": {},
   "outputs": [
    {
     "data": {
      "text/plain": [
       "16.33"
      ]
     },
     "execution_count": 23,
     "metadata": {},
     "output_type": "execute_result"
    }
   ],
   "source": [
    "G = lambda seq: round((seq.count('G') /len(seq)) * 100,2)\n",
    "# test\n",
    "G('TGGATTTGTTAGTGATACGANATCGCTTTATAATCATNATGTTTNCTCN') "
   ]
  },
  {
   "cell_type": "code",
   "execution_count": 24,
   "metadata": {},
   "outputs": [
    {
     "data": {
      "text/plain": [
       "12.24"
      ]
     },
     "execution_count": 24,
     "metadata": {},
     "output_type": "execute_result"
    }
   ],
   "source": [
    "C = lambda seq: round((seq.count('C') /len(seq)) * 100,2)\n",
    "# test\n",
    "C('TGGATTTGTTAGTGATACGANATCGCTTTATAATCATNATGTTTNCTCN') "
   ]
  },
  {
   "cell_type": "code",
   "execution_count": 25,
   "metadata": {},
   "outputs": [],
   "source": [
    "# create a column N \n",
    "df['%A'] = df['Seq'].apply(lambda seq: round((seq.count('A') /len(seq)) * 100,2))"
   ]
  },
  {
   "cell_type": "code",
   "execution_count": 26,
   "metadata": {},
   "outputs": [
    {
     "data": {
      "text/html": [
       "<div>\n",
       "<style scoped>\n",
       "    .dataframe tbody tr th:only-of-type {\n",
       "        vertical-align: middle;\n",
       "    }\n",
       "\n",
       "    .dataframe tbody tr th {\n",
       "        vertical-align: top;\n",
       "    }\n",
       "\n",
       "    .dataframe thead th {\n",
       "        text-align: right;\n",
       "    }\n",
       "</style>\n",
       "<table border=\"1\" class=\"dataframe\">\n",
       "  <thead>\n",
       "    <tr style=\"text-align: right;\">\n",
       "      <th></th>\n",
       "      <th>Des</th>\n",
       "      <th>Gen</th>\n",
       "      <th>Seq</th>\n",
       "      <th>Len</th>\n",
       "      <th>GC</th>\n",
       "      <th>%N</th>\n",
       "      <th>%A</th>\n",
       "    </tr>\n",
       "    <tr>\n",
       "      <th>Id</th>\n",
       "      <th></th>\n",
       "      <th></th>\n",
       "      <th></th>\n",
       "      <th></th>\n",
       "      <th></th>\n",
       "      <th></th>\n",
       "      <th></th>\n",
       "    </tr>\n",
       "  </thead>\n",
       "  <tbody>\n",
       "    <tr>\n",
       "      <th>MK978772.1</th>\n",
       "      <td>Moumouvirus maliensis, complete genome</td>\n",
       "      <td>dsDNA</td>\n",
       "      <td>TGGATTTGTTAGTGATACGAATCGCTTTATAATCATATGTTTCTCT...</td>\n",
       "      <td>999513</td>\n",
       "      <td>25.35</td>\n",
       "      <td>0</td>\n",
       "      <td>37.29</td>\n",
       "    </tr>\n",
       "    <tr>\n",
       "      <th>MT291826.1</th>\n",
       "      <td>Severe acute respiratory syndrome coronavirus ...</td>\n",
       "      <td>ssRNA(+)</td>\n",
       "      <td>TGGCTGTCACTCGGCTGCATGCTTAGTGCACTCACGCAGTATAATT...</td>\n",
       "      <td>29807</td>\n",
       "      <td>37.99</td>\n",
       "      <td>0</td>\n",
       "      <td>29.92</td>\n",
       "    </tr>\n",
       "    <tr>\n",
       "      <th>MT291827.1</th>\n",
       "      <td>Severe acute respiratory syndrome coronavirus ...</td>\n",
       "      <td>ssRNA(+)</td>\n",
       "      <td>AACTTTCGATCTCTTGTAGATCTGTTCTCTAAACGAACTTTAAAAT...</td>\n",
       "      <td>29858</td>\n",
       "      <td>37.98</td>\n",
       "      <td>0</td>\n",
       "      <td>29.91</td>\n",
       "    </tr>\n",
       "    <tr>\n",
       "      <th>MT291828.1</th>\n",
       "      <td>Severe acute respiratory syndrome coronavirus ...</td>\n",
       "      <td>ssRNA(+)</td>\n",
       "      <td>AACTTTCGATCTCTTGTAGATCTGTTCTCTAAACGAACTTTAAAAT...</td>\n",
       "      <td>29858</td>\n",
       "      <td>37.99</td>\n",
       "      <td>0</td>\n",
       "      <td>29.91</td>\n",
       "    </tr>\n",
       "    <tr>\n",
       "      <th>MT291829.1</th>\n",
       "      <td>Severe acute respiratory syndrome coronavirus ...</td>\n",
       "      <td>ssRNA(+)</td>\n",
       "      <td>TGGCTGTCACTCGGCTGCATGCTTAGTGCACTCACGCAGTATAATT...</td>\n",
       "      <td>29774</td>\n",
       "      <td>38.02</td>\n",
       "      <td>0</td>\n",
       "      <td>29.85</td>\n",
       "    </tr>\n",
       "  </tbody>\n",
       "</table>\n",
       "</div>"
      ],
      "text/plain": [
       "                                                          Des       Gen  \\\n",
       "Id                                                                        \n",
       "MK978772.1             Moumouvirus maliensis, complete genome     dsDNA   \n",
       "MT291826.1  Severe acute respiratory syndrome coronavirus ...  ssRNA(+)   \n",
       "MT291827.1  Severe acute respiratory syndrome coronavirus ...  ssRNA(+)   \n",
       "MT291828.1  Severe acute respiratory syndrome coronavirus ...  ssRNA(+)   \n",
       "MT291829.1  Severe acute respiratory syndrome coronavirus ...  ssRNA(+)   \n",
       "\n",
       "                                                          Seq     Len     GC  \\\n",
       "Id                                                                             \n",
       "MK978772.1  TGGATTTGTTAGTGATACGAATCGCTTTATAATCATATGTTTCTCT...  999513  25.35   \n",
       "MT291826.1  TGGCTGTCACTCGGCTGCATGCTTAGTGCACTCACGCAGTATAATT...   29807  37.99   \n",
       "MT291827.1  AACTTTCGATCTCTTGTAGATCTGTTCTCTAAACGAACTTTAAAAT...   29858  37.98   \n",
       "MT291828.1  AACTTTCGATCTCTTGTAGATCTGTTCTCTAAACGAACTTTAAAAT...   29858  37.99   \n",
       "MT291829.1  TGGCTGTCACTCGGCTGCATGCTTAGTGCACTCACGCAGTATAATT...   29774  38.02   \n",
       "\n",
       "            %N     %A  \n",
       "Id                     \n",
       "MK978772.1   0  37.29  \n",
       "MT291826.1   0  29.92  \n",
       "MT291827.1   0  29.91  \n",
       "MT291828.1   0  29.91  \n",
       "MT291829.1   0  29.85  "
      ]
     },
     "execution_count": 26,
     "metadata": {},
     "output_type": "execute_result"
    }
   ],
   "source": [
    "df.head() "
   ]
  },
  {
   "cell_type": "code",
   "execution_count": 27,
   "metadata": {},
   "outputs": [],
   "source": [
    "# create a column N \n",
    "df['%T'] = df['Seq'].apply(lambda seq: round((seq.count('T') /len(seq)) * 100,2))"
   ]
  },
  {
   "cell_type": "code",
   "execution_count": 28,
   "metadata": {},
   "outputs": [
    {
     "data": {
      "text/html": [
       "<div>\n",
       "<style scoped>\n",
       "    .dataframe tbody tr th:only-of-type {\n",
       "        vertical-align: middle;\n",
       "    }\n",
       "\n",
       "    .dataframe tbody tr th {\n",
       "        vertical-align: top;\n",
       "    }\n",
       "\n",
       "    .dataframe thead th {\n",
       "        text-align: right;\n",
       "    }\n",
       "</style>\n",
       "<table border=\"1\" class=\"dataframe\">\n",
       "  <thead>\n",
       "    <tr style=\"text-align: right;\">\n",
       "      <th></th>\n",
       "      <th>Des</th>\n",
       "      <th>Gen</th>\n",
       "      <th>Seq</th>\n",
       "      <th>Len</th>\n",
       "      <th>GC</th>\n",
       "      <th>%N</th>\n",
       "      <th>%A</th>\n",
       "      <th>%T</th>\n",
       "    </tr>\n",
       "    <tr>\n",
       "      <th>Id</th>\n",
       "      <th></th>\n",
       "      <th></th>\n",
       "      <th></th>\n",
       "      <th></th>\n",
       "      <th></th>\n",
       "      <th></th>\n",
       "      <th></th>\n",
       "      <th></th>\n",
       "    </tr>\n",
       "  </thead>\n",
       "  <tbody>\n",
       "    <tr>\n",
       "      <th>MK978772.1</th>\n",
       "      <td>Moumouvirus maliensis, complete genome</td>\n",
       "      <td>dsDNA</td>\n",
       "      <td>TGGATTTGTTAGTGATACGAATCGCTTTATAATCATATGTTTCTCT...</td>\n",
       "      <td>999513</td>\n",
       "      <td>25.35</td>\n",
       "      <td>0</td>\n",
       "      <td>37.29</td>\n",
       "      <td>37.36</td>\n",
       "    </tr>\n",
       "    <tr>\n",
       "      <th>MT291826.1</th>\n",
       "      <td>Severe acute respiratory syndrome coronavirus ...</td>\n",
       "      <td>ssRNA(+)</td>\n",
       "      <td>TGGCTGTCACTCGGCTGCATGCTTAGTGCACTCACGCAGTATAATT...</td>\n",
       "      <td>29807</td>\n",
       "      <td>37.99</td>\n",
       "      <td>0</td>\n",
       "      <td>29.92</td>\n",
       "      <td>32.09</td>\n",
       "    </tr>\n",
       "    <tr>\n",
       "      <th>MT291827.1</th>\n",
       "      <td>Severe acute respiratory syndrome coronavirus ...</td>\n",
       "      <td>ssRNA(+)</td>\n",
       "      <td>AACTTTCGATCTCTTGTAGATCTGTTCTCTAAACGAACTTTAAAAT...</td>\n",
       "      <td>29858</td>\n",
       "      <td>37.98</td>\n",
       "      <td>0</td>\n",
       "      <td>29.91</td>\n",
       "      <td>32.10</td>\n",
       "    </tr>\n",
       "    <tr>\n",
       "      <th>MT291828.1</th>\n",
       "      <td>Severe acute respiratory syndrome coronavirus ...</td>\n",
       "      <td>ssRNA(+)</td>\n",
       "      <td>AACTTTCGATCTCTTGTAGATCTGTTCTCTAAACGAACTTTAAAAT...</td>\n",
       "      <td>29858</td>\n",
       "      <td>37.99</td>\n",
       "      <td>0</td>\n",
       "      <td>29.91</td>\n",
       "      <td>32.10</td>\n",
       "    </tr>\n",
       "    <tr>\n",
       "      <th>MT291829.1</th>\n",
       "      <td>Severe acute respiratory syndrome coronavirus ...</td>\n",
       "      <td>ssRNA(+)</td>\n",
       "      <td>TGGCTGTCACTCGGCTGCATGCTTAGTGCACTCACGCAGTATAATT...</td>\n",
       "      <td>29774</td>\n",
       "      <td>38.02</td>\n",
       "      <td>0</td>\n",
       "      <td>29.85</td>\n",
       "      <td>32.12</td>\n",
       "    </tr>\n",
       "  </tbody>\n",
       "</table>\n",
       "</div>"
      ],
      "text/plain": [
       "                                                          Des       Gen  \\\n",
       "Id                                                                        \n",
       "MK978772.1             Moumouvirus maliensis, complete genome     dsDNA   \n",
       "MT291826.1  Severe acute respiratory syndrome coronavirus ...  ssRNA(+)   \n",
       "MT291827.1  Severe acute respiratory syndrome coronavirus ...  ssRNA(+)   \n",
       "MT291828.1  Severe acute respiratory syndrome coronavirus ...  ssRNA(+)   \n",
       "MT291829.1  Severe acute respiratory syndrome coronavirus ...  ssRNA(+)   \n",
       "\n",
       "                                                          Seq     Len     GC  \\\n",
       "Id                                                                             \n",
       "MK978772.1  TGGATTTGTTAGTGATACGAATCGCTTTATAATCATATGTTTCTCT...  999513  25.35   \n",
       "MT291826.1  TGGCTGTCACTCGGCTGCATGCTTAGTGCACTCACGCAGTATAATT...   29807  37.99   \n",
       "MT291827.1  AACTTTCGATCTCTTGTAGATCTGTTCTCTAAACGAACTTTAAAAT...   29858  37.98   \n",
       "MT291828.1  AACTTTCGATCTCTTGTAGATCTGTTCTCTAAACGAACTTTAAAAT...   29858  37.99   \n",
       "MT291829.1  TGGCTGTCACTCGGCTGCATGCTTAGTGCACTCACGCAGTATAATT...   29774  38.02   \n",
       "\n",
       "            %N     %A     %T  \n",
       "Id                            \n",
       "MK978772.1   0  37.29  37.36  \n",
       "MT291826.1   0  29.92  32.09  \n",
       "MT291827.1   0  29.91  32.10  \n",
       "MT291828.1   0  29.91  32.10  \n",
       "MT291829.1   0  29.85  32.12  "
      ]
     },
     "execution_count": 28,
     "metadata": {},
     "output_type": "execute_result"
    }
   ],
   "source": [
    "df.head() "
   ]
  },
  {
   "cell_type": "code",
   "execution_count": 29,
   "metadata": {},
   "outputs": [],
   "source": [
    "# create a column N \n",
    "df['%G'] = df['Seq'].apply(lambda seq: round((seq.count('G') /len(seq)) * 100,2))"
   ]
  },
  {
   "cell_type": "code",
   "execution_count": 30,
   "metadata": {},
   "outputs": [
    {
     "data": {
      "text/html": [
       "<div>\n",
       "<style scoped>\n",
       "    .dataframe tbody tr th:only-of-type {\n",
       "        vertical-align: middle;\n",
       "    }\n",
       "\n",
       "    .dataframe tbody tr th {\n",
       "        vertical-align: top;\n",
       "    }\n",
       "\n",
       "    .dataframe thead th {\n",
       "        text-align: right;\n",
       "    }\n",
       "</style>\n",
       "<table border=\"1\" class=\"dataframe\">\n",
       "  <thead>\n",
       "    <tr style=\"text-align: right;\">\n",
       "      <th></th>\n",
       "      <th>Des</th>\n",
       "      <th>Gen</th>\n",
       "      <th>Seq</th>\n",
       "      <th>Len</th>\n",
       "      <th>GC</th>\n",
       "      <th>%N</th>\n",
       "      <th>%A</th>\n",
       "      <th>%T</th>\n",
       "      <th>%G</th>\n",
       "    </tr>\n",
       "    <tr>\n",
       "      <th>Id</th>\n",
       "      <th></th>\n",
       "      <th></th>\n",
       "      <th></th>\n",
       "      <th></th>\n",
       "      <th></th>\n",
       "      <th></th>\n",
       "      <th></th>\n",
       "      <th></th>\n",
       "      <th></th>\n",
       "    </tr>\n",
       "  </thead>\n",
       "  <tbody>\n",
       "    <tr>\n",
       "      <th>MK978772.1</th>\n",
       "      <td>Moumouvirus maliensis, complete genome</td>\n",
       "      <td>dsDNA</td>\n",
       "      <td>TGGATTTGTTAGTGATACGAATCGCTTTATAATCATATGTTTCTCT...</td>\n",
       "      <td>999513</td>\n",
       "      <td>25.35</td>\n",
       "      <td>0</td>\n",
       "      <td>37.29</td>\n",
       "      <td>37.36</td>\n",
       "      <td>12.92</td>\n",
       "    </tr>\n",
       "    <tr>\n",
       "      <th>MT291826.1</th>\n",
       "      <td>Severe acute respiratory syndrome coronavirus ...</td>\n",
       "      <td>ssRNA(+)</td>\n",
       "      <td>TGGCTGTCACTCGGCTGCATGCTTAGTGCACTCACGCAGTATAATT...</td>\n",
       "      <td>29807</td>\n",
       "      <td>37.99</td>\n",
       "      <td>0</td>\n",
       "      <td>29.92</td>\n",
       "      <td>32.09</td>\n",
       "      <td>19.63</td>\n",
       "    </tr>\n",
       "    <tr>\n",
       "      <th>MT291827.1</th>\n",
       "      <td>Severe acute respiratory syndrome coronavirus ...</td>\n",
       "      <td>ssRNA(+)</td>\n",
       "      <td>AACTTTCGATCTCTTGTAGATCTGTTCTCTAAACGAACTTTAAAAT...</td>\n",
       "      <td>29858</td>\n",
       "      <td>37.98</td>\n",
       "      <td>0</td>\n",
       "      <td>29.91</td>\n",
       "      <td>32.10</td>\n",
       "      <td>19.62</td>\n",
       "    </tr>\n",
       "    <tr>\n",
       "      <th>MT291828.1</th>\n",
       "      <td>Severe acute respiratory syndrome coronavirus ...</td>\n",
       "      <td>ssRNA(+)</td>\n",
       "      <td>AACTTTCGATCTCTTGTAGATCTGTTCTCTAAACGAACTTTAAAAT...</td>\n",
       "      <td>29858</td>\n",
       "      <td>37.99</td>\n",
       "      <td>0</td>\n",
       "      <td>29.91</td>\n",
       "      <td>32.10</td>\n",
       "      <td>19.63</td>\n",
       "    </tr>\n",
       "    <tr>\n",
       "      <th>MT291829.1</th>\n",
       "      <td>Severe acute respiratory syndrome coronavirus ...</td>\n",
       "      <td>ssRNA(+)</td>\n",
       "      <td>TGGCTGTCACTCGGCTGCATGCTTAGTGCACTCACGCAGTATAATT...</td>\n",
       "      <td>29774</td>\n",
       "      <td>38.02</td>\n",
       "      <td>0</td>\n",
       "      <td>29.85</td>\n",
       "      <td>32.12</td>\n",
       "      <td>19.65</td>\n",
       "    </tr>\n",
       "  </tbody>\n",
       "</table>\n",
       "</div>"
      ],
      "text/plain": [
       "                                                          Des       Gen  \\\n",
       "Id                                                                        \n",
       "MK978772.1             Moumouvirus maliensis, complete genome     dsDNA   \n",
       "MT291826.1  Severe acute respiratory syndrome coronavirus ...  ssRNA(+)   \n",
       "MT291827.1  Severe acute respiratory syndrome coronavirus ...  ssRNA(+)   \n",
       "MT291828.1  Severe acute respiratory syndrome coronavirus ...  ssRNA(+)   \n",
       "MT291829.1  Severe acute respiratory syndrome coronavirus ...  ssRNA(+)   \n",
       "\n",
       "                                                          Seq     Len     GC  \\\n",
       "Id                                                                             \n",
       "MK978772.1  TGGATTTGTTAGTGATACGAATCGCTTTATAATCATATGTTTCTCT...  999513  25.35   \n",
       "MT291826.1  TGGCTGTCACTCGGCTGCATGCTTAGTGCACTCACGCAGTATAATT...   29807  37.99   \n",
       "MT291827.1  AACTTTCGATCTCTTGTAGATCTGTTCTCTAAACGAACTTTAAAAT...   29858  37.98   \n",
       "MT291828.1  AACTTTCGATCTCTTGTAGATCTGTTCTCTAAACGAACTTTAAAAT...   29858  37.99   \n",
       "MT291829.1  TGGCTGTCACTCGGCTGCATGCTTAGTGCACTCACGCAGTATAATT...   29774  38.02   \n",
       "\n",
       "            %N     %A     %T     %G  \n",
       "Id                                   \n",
       "MK978772.1   0  37.29  37.36  12.92  \n",
       "MT291826.1   0  29.92  32.09  19.63  \n",
       "MT291827.1   0  29.91  32.10  19.62  \n",
       "MT291828.1   0  29.91  32.10  19.63  \n",
       "MT291829.1   0  29.85  32.12  19.65  "
      ]
     },
     "execution_count": 30,
     "metadata": {},
     "output_type": "execute_result"
    }
   ],
   "source": [
    "df.head() "
   ]
  },
  {
   "cell_type": "code",
   "execution_count": 31,
   "metadata": {},
   "outputs": [],
   "source": [
    "# create a column N \n",
    "df['%C'] = df['Seq'].apply(lambda seq: round((seq.count('C') /len(seq)) * 100,2))"
   ]
  },
  {
   "cell_type": "code",
   "execution_count": 32,
   "metadata": {},
   "outputs": [
    {
     "data": {
      "text/html": [
       "<div>\n",
       "<style scoped>\n",
       "    .dataframe tbody tr th:only-of-type {\n",
       "        vertical-align: middle;\n",
       "    }\n",
       "\n",
       "    .dataframe tbody tr th {\n",
       "        vertical-align: top;\n",
       "    }\n",
       "\n",
       "    .dataframe thead th {\n",
       "        text-align: right;\n",
       "    }\n",
       "</style>\n",
       "<table border=\"1\" class=\"dataframe\">\n",
       "  <thead>\n",
       "    <tr style=\"text-align: right;\">\n",
       "      <th></th>\n",
       "      <th>Des</th>\n",
       "      <th>Gen</th>\n",
       "      <th>Seq</th>\n",
       "      <th>Len</th>\n",
       "      <th>GC</th>\n",
       "      <th>%N</th>\n",
       "      <th>%A</th>\n",
       "      <th>%T</th>\n",
       "      <th>%G</th>\n",
       "      <th>%C</th>\n",
       "    </tr>\n",
       "    <tr>\n",
       "      <th>Id</th>\n",
       "      <th></th>\n",
       "      <th></th>\n",
       "      <th></th>\n",
       "      <th></th>\n",
       "      <th></th>\n",
       "      <th></th>\n",
       "      <th></th>\n",
       "      <th></th>\n",
       "      <th></th>\n",
       "      <th></th>\n",
       "    </tr>\n",
       "  </thead>\n",
       "  <tbody>\n",
       "    <tr>\n",
       "      <th>MK978772.1</th>\n",
       "      <td>Moumouvirus maliensis, complete genome</td>\n",
       "      <td>dsDNA</td>\n",
       "      <td>TGGATTTGTTAGTGATACGAATCGCTTTATAATCATATGTTTCTCT...</td>\n",
       "      <td>999513</td>\n",
       "      <td>25.35</td>\n",
       "      <td>0</td>\n",
       "      <td>37.29</td>\n",
       "      <td>37.36</td>\n",
       "      <td>12.92</td>\n",
       "      <td>12.42</td>\n",
       "    </tr>\n",
       "    <tr>\n",
       "      <th>MT291826.1</th>\n",
       "      <td>Severe acute respiratory syndrome coronavirus ...</td>\n",
       "      <td>ssRNA(+)</td>\n",
       "      <td>TGGCTGTCACTCGGCTGCATGCTTAGTGCACTCACGCAGTATAATT...</td>\n",
       "      <td>29807</td>\n",
       "      <td>37.99</td>\n",
       "      <td>0</td>\n",
       "      <td>29.92</td>\n",
       "      <td>32.09</td>\n",
       "      <td>19.63</td>\n",
       "      <td>18.36</td>\n",
       "    </tr>\n",
       "    <tr>\n",
       "      <th>MT291827.1</th>\n",
       "      <td>Severe acute respiratory syndrome coronavirus ...</td>\n",
       "      <td>ssRNA(+)</td>\n",
       "      <td>AACTTTCGATCTCTTGTAGATCTGTTCTCTAAACGAACTTTAAAAT...</td>\n",
       "      <td>29858</td>\n",
       "      <td>37.98</td>\n",
       "      <td>0</td>\n",
       "      <td>29.91</td>\n",
       "      <td>32.10</td>\n",
       "      <td>19.62</td>\n",
       "      <td>18.36</td>\n",
       "    </tr>\n",
       "    <tr>\n",
       "      <th>MT291828.1</th>\n",
       "      <td>Severe acute respiratory syndrome coronavirus ...</td>\n",
       "      <td>ssRNA(+)</td>\n",
       "      <td>AACTTTCGATCTCTTGTAGATCTGTTCTCTAAACGAACTTTAAAAT...</td>\n",
       "      <td>29858</td>\n",
       "      <td>37.99</td>\n",
       "      <td>0</td>\n",
       "      <td>29.91</td>\n",
       "      <td>32.10</td>\n",
       "      <td>19.63</td>\n",
       "      <td>18.36</td>\n",
       "    </tr>\n",
       "    <tr>\n",
       "      <th>MT291829.1</th>\n",
       "      <td>Severe acute respiratory syndrome coronavirus ...</td>\n",
       "      <td>ssRNA(+)</td>\n",
       "      <td>TGGCTGTCACTCGGCTGCATGCTTAGTGCACTCACGCAGTATAATT...</td>\n",
       "      <td>29774</td>\n",
       "      <td>38.02</td>\n",
       "      <td>0</td>\n",
       "      <td>29.85</td>\n",
       "      <td>32.12</td>\n",
       "      <td>19.65</td>\n",
       "      <td>18.38</td>\n",
       "    </tr>\n",
       "  </tbody>\n",
       "</table>\n",
       "</div>"
      ],
      "text/plain": [
       "                                                          Des       Gen  \\\n",
       "Id                                                                        \n",
       "MK978772.1             Moumouvirus maliensis, complete genome     dsDNA   \n",
       "MT291826.1  Severe acute respiratory syndrome coronavirus ...  ssRNA(+)   \n",
       "MT291827.1  Severe acute respiratory syndrome coronavirus ...  ssRNA(+)   \n",
       "MT291828.1  Severe acute respiratory syndrome coronavirus ...  ssRNA(+)   \n",
       "MT291829.1  Severe acute respiratory syndrome coronavirus ...  ssRNA(+)   \n",
       "\n",
       "                                                          Seq     Len     GC  \\\n",
       "Id                                                                             \n",
       "MK978772.1  TGGATTTGTTAGTGATACGAATCGCTTTATAATCATATGTTTCTCT...  999513  25.35   \n",
       "MT291826.1  TGGCTGTCACTCGGCTGCATGCTTAGTGCACTCACGCAGTATAATT...   29807  37.99   \n",
       "MT291827.1  AACTTTCGATCTCTTGTAGATCTGTTCTCTAAACGAACTTTAAAAT...   29858  37.98   \n",
       "MT291828.1  AACTTTCGATCTCTTGTAGATCTGTTCTCTAAACGAACTTTAAAAT...   29858  37.99   \n",
       "MT291829.1  TGGCTGTCACTCGGCTGCATGCTTAGTGCACTCACGCAGTATAATT...   29774  38.02   \n",
       "\n",
       "            %N     %A     %T     %G     %C  \n",
       "Id                                          \n",
       "MK978772.1   0  37.29  37.36  12.92  12.42  \n",
       "MT291826.1   0  29.92  32.09  19.63  18.36  \n",
       "MT291827.1   0  29.91  32.10  19.62  18.36  \n",
       "MT291828.1   0  29.91  32.10  19.63  18.36  \n",
       "MT291829.1   0  29.85  32.12  19.65  18.38  "
      ]
     },
     "execution_count": 32,
     "metadata": {},
     "output_type": "execute_result"
    }
   ],
   "source": [
    "df.head() "
   ]
  },
  {
   "cell_type": "markdown",
   "metadata": {},
   "source": [
    "## Per Base Sequence Content Plot "
   ]
  },
  {
   "cell_type": "code",
   "execution_count": null,
   "metadata": {},
   "outputs": [],
   "source": [
    "plt.plot(df['%A'], 'bo')\n",
    "plt.plot(df['%T'], 'rs', linestyle='--')\n",
    "plt.plot(df['%G'], 'bs')\n",
    "plt.plot(df['%C'], 'bo')\n",
    "plt.xlabel('Base-pair Position')\n",
    "plt.ylabel('% of Bases')\n",
    "plt.legend(['%A', '%T', '%G', '%C'])\n",
    "plt.tight_layout()\n",
    "plt.show() "
   ]
  },
  {
   "cell_type": "markdown",
   "metadata": {},
   "source": [
    "## Question #1: Whta is the maximum and minimum length of sequence?"
   ]
  },
  {
   "cell_type": "code",
   "execution_count": 33,
   "metadata": {},
   "outputs": [
    {
     "data": {
      "text/plain": [
       "count    5.598400e+04\n",
       "mean     1.355881e+04\n",
       "std      3.514861e+04\n",
       "min      1.360000e+02\n",
       "25%      1.656000e+03\n",
       "50%      3.780000e+03\n",
       "75%      9.098250e+03\n",
       "max      1.473573e+06\n",
       "Name: Len, dtype: float64"
      ]
     },
     "execution_count": 33,
     "metadata": {},
     "output_type": "execute_result"
    }
   ],
   "source": [
    "# length Summary \n",
    "df.Len.describe()"
   ]
  },
  {
   "cell_type": "code",
   "execution_count": 34,
   "metadata": {},
   "outputs": [
    {
     "data": {
      "text/plain": [
       "1473573"
      ]
     },
     "execution_count": 34,
     "metadata": {},
     "output_type": "execute_result"
    }
   ],
   "source": [
    "# max length \n",
    "df.Len.max() "
   ]
  },
  {
   "cell_type": "code",
   "execution_count": 35,
   "metadata": {},
   "outputs": [
    {
     "data": {
      "text/plain": [
       "136"
      ]
     },
     "execution_count": 35,
     "metadata": {},
     "output_type": "execute_result"
    }
   ],
   "source": [
    "# min length \n",
    "df.Len.min() "
   ]
  },
  {
   "cell_type": "code",
   "execution_count": 36,
   "metadata": {},
   "outputs": [
    {
     "data": {
      "text/plain": [
       "13558.81205344384"
      ]
     },
     "execution_count": 36,
     "metadata": {},
     "output_type": "execute_result"
    }
   ],
   "source": [
    "# avg length \n",
    "df.Len.mean() "
   ]
  },
  {
   "cell_type": "markdown",
   "metadata": {},
   "source": [
    "## Question #2: Returns the maximum and minimum length with their index."
   ]
  },
  {
   "cell_type": "code",
   "execution_count": 37,
   "metadata": {},
   "outputs": [
    {
     "data": {
      "text/plain": [
       "Des    Orpheovirus IHUMI-LCC2 genome assembly, comple...\n",
       "Gen                                                dsDNA\n",
       "Seq    TTTTATCTATTATAATTTTCTATAACTTATAATTTTTATCTATTAT...\n",
       "Len                                              1473573\n",
       "GC                                                 24.98\n",
       "%N                                                   100\n",
       "%A                                                 37.58\n",
       "%T                                                 37.43\n",
       "%G                                                 12.54\n",
       "%C                                                 12.44\n",
       "Name: NC_036594.1, dtype: object"
      ]
     },
     "execution_count": 37,
     "metadata": {},
     "output_type": "execute_result"
    }
   ],
   "source": [
    "# maximum length with index \n",
    "df.loc[df.Len.idxmax()]"
   ]
  },
  {
   "cell_type": "code",
   "execution_count": 38,
   "metadata": {},
   "outputs": [
    {
     "data": {
      "text/plain": [
       "Des    Tulip mild mottle mosaic virus RNA polymerase ...\n",
       "Gen                                             ssRNA(-)\n",
       "Seq    GGAAGGTATTTTCATAGAGCTTTGACAAGTGGGTTTAACCCAAAAA...\n",
       "Len                                                  136\n",
       "GC                                                 38.97\n",
       "%N                                                     0\n",
       "%A                                                 36.03\n",
       "%T                                                    25\n",
       "%G                                                 21.32\n",
       "%C                                                 17.65\n",
       "Name: NC_043391.1, dtype: object"
      ]
     },
     "execution_count": 38,
     "metadata": {},
     "output_type": "execute_result"
    }
   ],
   "source": [
    "# minimum length with index \n",
    "df.loc[df.Len.idxmin()] "
   ]
  },
  {
   "cell_type": "code",
   "execution_count": 39,
   "metadata": {},
   "outputs": [
    {
     "data": {
      "text/plain": [
       "<seaborn.axisgrid.FacetGrid at 0x7f55b650d610>"
      ]
     },
     "execution_count": 39,
     "metadata": {},
     "output_type": "execute_result"
    },
    {
     "data": {
      "image/png": "[encoded data removed]",
      "text/plain": [
       "<Figure size 1080x360 with 1 Axes>"
      ]
     },
     "metadata": {},
     "output_type": "display_data"
    }
   ],
   "source": [
    "sns.catplot(x='Gen', y='Len', data=df, kind='bar', aspect=3, palette='Set2')"
   ]
  },
  {
   "cell_type": "markdown",
   "metadata": {},
   "source": [
    "## Question #3: What is the maximum and minimum GC Ratio of sequence?"
   ]
  },
  {
   "cell_type": "code",
   "execution_count": 40,
   "metadata": {},
   "outputs": [
    {
     "data": {
      "text/plain": [
       "count    55984.000000\n",
       "mean        42.288187\n",
       "std          7.803069\n",
       "min         11.280000\n",
       "25%         36.050000\n",
       "50%         41.900000\n",
       "75%         47.450000\n",
       "max         78.770000\n",
       "Name: GC, dtype: float64"
      ]
     },
     "execution_count": 40,
     "metadata": {},
     "output_type": "execute_result"
    }
   ],
   "source": [
    "# GC Summary \n",
    "df.GC.describe()"
   ]
  },
  {
   "cell_type": "markdown",
   "metadata": {},
   "source": [
    "## Question #4: Returns the maximum and minimum GC Ratio with their index."
   ]
  },
  {
   "cell_type": "code",
   "execution_count": 41,
   "metadata": {},
   "outputs": [
    {
     "data": {
      "text/plain": [
       "Des    Cervid herpesvirus 2 strain Salla 82 glycoprot...\n",
       "Gen                                                dsDNA\n",
       "Seq    CGAGACGTGCATCTTCCACCCCGAGGCGCCCGCCTGCCTGCACCCC...\n",
       "Len                                                  603\n",
       "GC                                                 78.77\n",
       "%N                                                     0\n",
       "%A                                                  9.78\n",
       "%T                                                 11.44\n",
       "%G                                                 35.82\n",
       "%C                                                 42.95\n",
       "Name: NC_043057.1, dtype: object"
      ]
     },
     "execution_count": 41,
     "metadata": {},
     "output_type": "execute_result"
    }
   ],
   "source": [
    "# returns the maximum GC with index \n",
    "df.loc[df.GC.idxmax()]"
   ]
  },
  {
   "cell_type": "code",
   "execution_count": 42,
   "metadata": {},
   "outputs": [
    {
     "data": {
      "text/plain": [
       "Des    Human papillomavirus type 16 isolate NCI_3414,...\n",
       "Gen                                                dsDNA\n",
       "Seq    AAGAAAAGCAAAGACATCTGGACAAAAAGCAAAGATTCCATAATAT...\n",
       "Len                                                 7466\n",
       "GC                                                 11.28\n",
       "%N                                                  5147\n",
       "%A                                                 10.33\n",
       "%T                                                  9.46\n",
       "%G                                                  6.17\n",
       "%C                                                   5.1\n",
       "Name: MG848273.1, dtype: object"
      ]
     },
     "execution_count": 42,
     "metadata": {},
     "output_type": "execute_result"
    }
   ],
   "source": [
    "# returns the minimum GC with index \n",
    "df.loc[df.GC.idxmin()]"
   ]
  },
  {
   "cell_type": "markdown",
   "metadata": {},
   "source": [
    "## Question #4: GC distributions"
   ]
  },
  {
   "cell_type": "code",
   "execution_count": 43,
   "metadata": {},
   "outputs": [
    {
     "data": {
      "image/png": "[encoded data removed]",
      "text/plain": [
       "<Figure size 720x576 with 1 Axes>"
      ]
     },
     "metadata": {},
     "output_type": "display_data"
    }
   ],
   "source": [
    "# GC distributions \n",
    "sns.distplot(df['GC']); "
   ]
  },
  {
   "cell_type": "code",
   "execution_count": 44,
   "metadata": {},
   "outputs": [
    {
     "data": {
      "image/png": "[encoded data removed]",
      "text/plain": [
       "<Figure size 720x576 with 1 Axes>"
      ]
     },
     "metadata": {},
     "output_type": "display_data"
    }
   ],
   "source": [
    "# GC distributions \n",
    "sns.distplot(df['GC'], kde=False); "
   ]
  },
  {
   "cell_type": "markdown",
   "metadata": {},
   "source": [
    "## Question #5: No. of Gen and bar plot"
   ]
  },
  {
   "cell_type": "code",
   "execution_count": 45,
   "metadata": {},
   "outputs": [
    {
     "data": {
      "text/plain": [
       "dsRNA           18379\n",
       "ssRNA(+)        11440\n",
       "dsDNA            8929\n",
       "ssRNA(-)         5499\n",
       "ssDNA(+/-)       4641\n",
       "ssRNA-RT         2261\n",
       "dsDNA-RT         1578\n",
       "ssRNA            1023\n",
       "ssRNA(+/-)        759\n",
       "ssDNA             702\n",
       "ssDNA(+)          469\n",
       "ssDNA(-)          296\n",
       "dsDNA; ssDNA        8\n",
       "Name: Gen, dtype: int64"
      ]
     },
     "execution_count": 45,
     "metadata": {},
     "output_type": "execute_result"
    }
   ],
   "source": [
    "# Gen counts \n",
    "df['Gen'].value_counts() "
   ]
  },
  {
   "cell_type": "code",
   "execution_count": 46,
   "metadata": {},
   "outputs": [
    {
     "data": {
      "image/png": "[encoded data removed]",
      "text/plain": [
       "<Figure size 720x576 with 1 Axes>"
      ]
     },
     "metadata": {},
     "output_type": "display_data"
    }
   ],
   "source": [
    "# bar chart \n",
    "df['Gen'].value_counts().plot(kind='bar');"
   ]
  }
 ],
 "metadata": {
  "kernelspec": {
   "display_name": "Python 3",
   "language": "python",
   "name": "python3"
  },
  "language_info": {
   "codemirror_mode": {
    "name": "ipython",
    "version": 3
   },
   "file_extension": ".py",
   "mimetype": "text/x-python",
   "name": "python",
   "nbconvert_exporter": "python",
   "pygments_lexer": "ipython3",
   "version": "3.7.4"
  },
  "latex_envs": {
   "LaTeX_envs_menu_present": true,
   "autoclose": false,
   "autocomplete": true,
   "bibliofile": "biblio.bib",
   "cite_by": "apalike",
   "current_citInitial": 1,
   "eqLabelWithNumbers": true,
   "eqNumInitial": 1,
   "hotkeys": {
    "equation": "Ctrl-E",
    "itemize": "Ctrl-I"
   },
   "labels_anchors": false,
   "latex_user_defs": false,
   "report_style_numbering": false,
   "user_envs_cfg": false
  }
 },
 "nbformat": 4,
 "nbformat_minor": 4
}
